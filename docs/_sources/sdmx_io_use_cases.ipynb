{
 "cells": [
  {
   "attachments": {},
   "cell_type": "markdown",
   "id": "71d29afb-aa5a-4244-8f1c-8007c099b5c6",
   "metadata": {},
   "source": [
    "# Core sdmx.io use cases\n",
    "## Modelling\n",
    "Data modelling is better done through a user interface and persisting information into a database. SDMXThon is not providing either, and it does not intend to substitute or compete with proper tools for modelling purposes, like Fusion Metadata Registry.\n",
    "Still, SDMXTHon can provide some functionalities for quick prototyping, due to its simple API to explore and manipulate metadata, as well as the method to generate SDMX-ML messages for the data structures.\n",
    "\n",
    "## Collection\n",
    "Data collection involves the reception and integration of data from multiple providers. SDMX enables automated data collection by providing standard formats to change metadata and data.\n",
    "\n",
    "The following chart represents a typical collection process:\n",
    "\n",
    "![collection](images/collection.png)\n",
    "\n",
    "A system receives an SDMX data file. The file is read, so that the data are loaded, and the related structure is obtained. Once the structure of the data is known, it is possible to validate that the data are following their required structure. Finally, if data are structurally correct, the data in the instance shall be loaded into the collection database.\n",
    "SDMXThon provides support to all the steps in the use case, as demonstrated with the following example.\n",
    "\n",
    "SDMXThon allows reading SDMX instances from stored files or from the web. It can also get as input a string or BytesIO object, facilitating integration if the data reception system is written in Python."
   ]
  },
  {
   "cell_type": "code",
   "execution_count": 3,
   "id": "ac121049-7de0-409c-9e32-fd6f098eb300",
   "metadata": {
    "tags": []
   },
   "outputs": [],
   "source": [
    "import sdmxthon\n",
    "\n",
    "instance = sdmxthon.read_sdmx('input_data/data.xml')"
   ]
  },
  {
   "cell_type": "markdown",
   "id": "5a96593c-0f6d-4569-8366-9adffbab0e0f",
   "metadata": {},
   "source": [
    "An SDMX message may contain metadata or data. The 'type' attribute for Message objects returns the message type, which in this case is a Structure Specific DataSet.\n",
    "Because it is a data file, the content of the message returns the datasets included in the file as a dictionary, with the ID of the dataflow as key."
   ]
  },
  {
   "cell_type": "code",
   "execution_count": 4,
   "id": "1325e744-ebd0-4ef5-9038-72093cd3e257",
   "metadata": {
    "tags": []
   },
   "outputs": [
    {
     "name": "stdout",
     "output_type": "stream",
     "text": [
      "MessageTypeEnum.StructureDataSet\n",
      "dict_keys(['BIS:BIS_DER(1.0)'])\n"
     ]
    }
   ],
   "source": [
    "print(instance.type)\n",
    "print(instance.content.keys())\n",
    "dataset = instance.content['BIS:BIS_DER(1.0)']"
   ]
  },
  {
   "cell_type": "markdown",
   "id": "ad205884-afcc-4b2d-a5bf-7324547398dc",
   "metadata": {},
   "source": [
    "Once the related data structure is known, we can load it by calling a webservice (implemented, for instance, by FMR). With the metadata, it is possible to perform the structural validation of the metadata."
   ]
  },
  {
   "cell_type": "code",
   "execution_count": 5,
   "id": "a0005854-9792-4017-b57f-e7f80e9e68c9",
   "metadata": {
    "tags": []
   },
   "outputs": [
    {
     "data": {
      "text/plain": [
       "[]"
      ]
     },
     "execution_count": 5,
     "metadata": {},
     "output_type": "execute_result"
    }
   ],
   "source": [
    "metadata = sdmxthon.read_sdmx('https://stats.bis.org/api/v1/datastructure/BIS/BIS_DER/1.0?references=all&detail=full')\n",
    "dataset.structure = metadata.content['DataStructures']['BIS:BIS_DER(1.0)']\n",
    "dataset.semantic_validation()"
   ]
  },
  {
   "cell_type": "markdown",
   "id": "bbd57ef7-de03-4589-aacd-e255e2e82802",
   "metadata": {},
   "source": [
    "An empty list as a result of the validation means that there are no structural errors. So this means that data can be loaded into the db. The data loading depends on the specific system and its underlying datamodel. But the advantage of using Pandas is that it includes a method to write into databases, with several different RDBMS supported."
   ]
  },
  {
   "cell_type": "markdown",
   "id": "5ebbb190-1f0a-4f02-9891-b5772667819c",
   "metadata": {},
   "source": [
    "## Production\n",
    "The production phase of the statistical process changes from institution to institution. But, in any case, it typically involves consistency validation (in some cases done during the collection phase) and data derivation (e.g., aggregates or calculation of new data).\n",
    "SDMXThon can support the statistical production by providing all the calculation capabilities included in Pandas. Because of Pandas, virtually any calculation (for validation or derivation purposes) in the production process can be done.\n",
    "In any case, for a production process, we strongly recommend the use of the Validation and Transformation Language (VTL). meaningfulData offers a proprietary Python library for this language, on top of some other relevant functionalities for VTL.\n",
    "Please refer to the example in section 4 for an explanation on how SDMXThon ca be used for data production. \n"
   ]
  },
  {
   "attachments": {},
   "cell_type": "markdown",
   "id": "ce915a31-e232-404c-b121-6492a664d9b8",
   "metadata": {},
   "source": [
    "## Dissemination\n",
    "As with data modelling, data dissemination requires of a full system including data stored in databases and interfaces (GUIs and APIs). SDMXThon is not providing any of those, but can be used to develop a dissemination system in Python.\n",
    "The following chart represents a simplified version of a dissemination service:\n",
    "\n",
    "![collection](images/dissemination.png)\n"
   ]
  },
  {
   "cell_type": "markdown",
   "id": "291a928d-d243-4212-88cd-f21c907a4d83",
   "metadata": {},
   "source": [
    "Essentially, dissemination is the process of allowing users (human or machines) to request some data, with certain filters, and responding with the data required. To do this, it is necessary to have a system able to receive the request for data, get the data from the database, serialize them into the required format (SDMX), and serve the response.\n",
    "SDMXThon provides a simple interface to perform these tasks. Connection to most RDBMS is supported, which allows retrieving the required data. Once the data are loaded, the SDMX file is generated with a simple method, and can be passed as a file or StringIO to the serving system. In any case, such a dissemination system would need to be built, and it is not provided by SDMXThon.\n",
    "The other side of data dissemination is data analysis. Data are disseminated because some user are going to use this data for some analytical purpose (or to calculate new information to be analysed). Given that Pandas is one of the most relevant libraries for data science and data analysis, the simple interface SDMXThon is providing to retrieve the required data enables any data analyst with no or limited SDMX knowledge to benefit from all the functionalities SDMX offers.\n"
   ]
  }
 ],
 "metadata": {
  "kernelspec": {
   "display_name": "Python 3 (ipykernel)",
   "language": "python",
   "name": "python3"
  },
  "language_info": {
   "codemirror_mode": {
    "name": "ipython",
    "version": 3
   },
   "file_extension": ".py",
   "mimetype": "text/x-python",
   "name": "python",
   "nbconvert_exporter": "python",
   "pygments_lexer": "ipython3",
   "version": "3.11.0"
  }
 },
 "nbformat": 4,
 "nbformat_minor": 5
}
