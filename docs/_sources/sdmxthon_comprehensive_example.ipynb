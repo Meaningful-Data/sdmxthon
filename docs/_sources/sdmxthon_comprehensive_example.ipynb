{
 "cells": [
  {
   "cell_type": "markdown",
   "metadata": {},
   "source": [
    "# Comprehensive example\n",
    "\n",
    "This example demonstrates how SDMXThon can be used to produce SDMX data from a CSV file.\n",
    "\n",
    "Let's suppose that we have some data stored in a CSV file, which correspond to a dataflow following the BIS_DER datastructure from the BIS.\n",
    "\n",
    "We can create a Dataset object in SDMXThon, and load this CSV data and the related metadata:"
   ]
  },
  {
   "cell_type": "code",
   "execution_count": 2,
   "metadata": {},
   "outputs": [],
   "source": [
    "import sdmxthon\n",
    "from sdmxthon.model.dataset import Dataset\n",
    "\n",
    "data_instance = Dataset()\n",
    "data_instance.read_csv('input_data/input_data.csv')\n",
    "\n",
    "metadata = sdmxthon.read_sdmx('https://stats.bis.org/api/v1/datastructure/BIS/BIS_DER/1.0?references=all&detail=full')\n",
    "data_instance.structure = metadata.content['DataStructures']['BIS:BIS_DER(1.0)']"
   ]
  },
  {
   "cell_type": "markdown",
   "metadata": {},
   "source": [
    "SDMXThon provides a method to do a structural validation of the data against the metadata:"
   ]
  },
  {
   "cell_type": "code",
   "execution_count": 3,
   "metadata": {},
   "outputs": [
    {
     "name": "stdout",
     "output_type": "stream",
     "text": [
      "The dataset has 3 errors:\n",
      " ['Missing value in measure OBS_VALUE', 'Missing FREQ', 'Missing OBS_STATUS']\n"
     ]
    }
   ],
   "source": [
    "import json\n",
    "\n",
    "validation_results = data_instance.semantic_validation()\n",
    "\n",
    "print (f'The dataset has {len(validation_results)} errors:\\n {[error[\"Message\"] for error in validation_results]}')"
   ]
  },
  {
   "cell_type": "markdown",
   "metadata": {},
   "source": [
    "Thus, the dataset is incorrect, because there are some empty values, and the dimension 'FREQ' and the mandatory attribute 'OBS_STATUS' are missing.\n",
    "It is possible to use Pandas to correct the dataset:"
   ]
  },
  {
   "cell_type": "code",
   "execution_count": 4,
   "metadata": {},
   "outputs": [
    {
     "name": "stdout",
     "output_type": "stream",
     "text": [
      "The dataset has 0 errors:\n",
      " []\n"
     ]
    }
   ],
   "source": [
    "data_instance.data['OBS_VALUE'] = data_instance.data['OBS_VALUE'].fillna(0)\n",
    "data_instance.data['FREQ'] = 'H'\n",
    "data_instance.data['OBS_STATUS'] = 'A'\n",
    "\n",
    "validation_results = data_instance.semantic_validation()\n",
    "print (f'The dataset has {len(validation_results)} errors:\\n {[error[\"Message\"] for error in validation_results]}')"
   ]
  },
  {
   "cell_type": "markdown",
   "metadata": {},
   "source": [
    "Let's now suppose that we want to validate that each observation is within 50% of the observation for the previous period. Again, we can use Panda's capabilities to perform these validations: "
   ]
  },
  {
   "cell_type": "code",
   "execution_count": 5,
   "metadata": {},
   "outputs": [
    {
     "name": "stdout",
     "output_type": "stream",
     "text": [
      "9914\n",
      "1818\n"
     ]
    }
   ],
   "source": [
    "#Get list of dimensions excluding TIME_PERIOD:\n",
    "dimension_descriptor = data_instance.structure.dimension_descriptor.components\n",
    "dimenension_list = [key for key in dimension_descriptor]\n",
    "dimenension_list.remove('TIME_PERIOD')\n",
    "\n",
    "\n",
    "# Add a field with the previous value of the series:\n",
    "data_instance.data[\"previous_value\"] = \\\n",
    "    data_instance.data.sort_values(\"TIME_PERIOD\").groupby(dimenension_list)\\\n",
    "            [\"OBS_VALUE\"].shift(1)\n",
    "\n",
    "\n",
    "# Get if value is between the percentage of the previous value:\n",
    "data_instance.data[\"val_result\"] = data_instance.data[\"previous_value\"] / data_instance.data[\"OBS_VALUE\"]\n",
    "errors = data_instance.data[~data_instance.data[\"val_result\"].between(0.8, 1.2)].dropna()\n",
    "\n",
    "#Drop inmaterial observations (previous or current below 1000):\n",
    "errors = errors[(errors['previous_value'] > 1000) |  (errors['OBS_VALUE'] > 1000)]\n",
    "\n",
    "print(len(data_instance.data))\n",
    "print(len(errors))\n",
    "\n",
    "errors.to_csv('error.csv')\n",
    "\n"
   ]
  },
  {
   "cell_type": "markdown",
   "metadata": {},
   "source": [
    "SDMXThon provides a method to simply generate an SDMX-ML message from a Dataset object.\n",
    "The message is generated as a StringIO object, but it is also possible to set a path to save the data as a file."
   ]
  },
  {
   "cell_type": "code",
   "execution_count": 11,
   "metadata": {},
   "outputs": [
    {
     "name": "stdout",
     "output_type": "stream",
     "text": [
      "<?xml version=\"1.0\" encoding=\"UTF-8\"?>\n",
      "<mes:StructureSpecificData xmlns:xsi=\"http://www.w3.org/2001/XMLSchema-instance\" xmlns:mes=\"http://www.sdmx.org/resources/sdmxml/schemas/v2_1/message\" xmlns:ss=\"http://www.sdmx.org/resources/sdmxml/schemas/v2_1/data/structurespecific\" xmlns:ns1=\"urn:sdmx:org.sdmx.infomodel.datastructure.DataStructure=BIS:BIS_DER(1.0):ObsLevelDim:AllDimensions\" xmlns:com=\"http://www.sdmx.org/resources/sdmxml/schemas/v2_1/common\" xsi:schemaLocation=\"http://www.sdmx.org/resources/sdmxml/schemas/v2_1/message https://registry.sdmx.org/schemas/v2_1/SDMXMessage.xsd\">\n",
      "\t<mes:Header>\n",
      "\t\t<mes:ID>test</mes:ID>\n",
      "\t\t<mes:Test>true</mes:Test>\n",
      "\t\t<mes:Prepared>2023-03-24T09:28:03</mes:Prepared>\n",
      "\t\t<mes:Sender id=\"Unknown\"/>\n",
      "\t\t<mes:Receiver id=\"Not_supplied\"/>\n",
      "\t\t<mes:Structure structureID=\"BIS_DER\" namespace=\"urn:sdmx:org.sdmx.infomodel.datastructure.DataStructure=BIS:BIS_DER(1.0)\" dimensionAtObservation=\"AllDimensions\">\n",
      "\t\t\t<com:Structure>\n",
      "\t\t\t\t<Ref agencyID=\"BIS\" id=\"BIS_DER\" version=\"1.0\" class=\"DataStructure\"/>\n",
      "\t\t\t</com:Structure>\n",
      "\t\t</mes:Structure>\n",
      "\t\t<mes:Source xml:lang=\"en\">SDMXthon</mes:Source>\n",
      "\t</mes:Header>\n",
      "\t<mes:DataSet ss:structureRef=\"BIS_DER\" xsi:type=\"ns1:DataSetType\" ss:dataScope=\"DataStructure\" action=\"Replace\">\n",
      "\t\t<Obs DER_TYPE=\"T\" DER_INSTR=\"W\" DER_RISK=\"T\" DER_REP_CTY=\"5J\" DER_SECTOR_CPY=\"N\" DER_CPC=\"5J\" DER_SECTOR_UDL=\"A\" DER_CURR_LEG1=\"TO1\" DER_CURR_LEG2=\"TO1\" DER_ISSUE_MAT=\"A\" DER_RATING=\"B\" DER_EX_METHOD=\"3\" DER_BASIS=\"A\" AVAILABILITY=\"K\" COLLECTION=\"S\" TIME_PERIOD=\"2021-S2\" OBS_VALUE=\"12381.0\" FREQ=\"H\" OBS_STATUS=\"A\" previous_value=\"\" val_result=\"\" />\n",
      "\t\t<Obs DER_TYPE=\"T\" DER_INSTR=\"W\" DER_RISK=\"T\" DER_REP_CTY=\"5J\" DER_SECTOR_CPY=\"N\" DER_CPC=\"5J\" DER_SECTOR_UDL=\"A\" DER_CURR_LEG1=\"TO1\" DER_CURR_LEG2=\"TO1\" DER_ISSUE_MAT=\"A\" DER_RATING=\"B\" DER_EX_METHOD=\"3\" DER_BASIS=\"A\" AVAILABILITY=\"K\" COLLECTION=\"S\" TIME_PERIOD=\"2022-S1\" OBS_VALUE=\"10363.0\" FREQ=\"H\" OBS_STATUS=\"A\" previous_value=\"12381.0\" val_result=\"1.1947312554279648\" />\n",
      "\t\t<Obs DER_TYPE=\"A\" DER_INSTR=\"T\" DER_RISK=\"L\" DER_REP_CTY=\"5J\" DER_SECTOR_CPY=\"A\" DER_CPC=\"5J\" DER_SECTOR_UDL=\"A\" DER_CURR_LEG1=\"TO1\" DER_CURR_LEG2=\"TO1\" DER_ISSUE_MAT=\"A\" DER_RATING=\"A\" DER_EX_METHOD=\"3\" DER_BASIS=\"A\" AVAILABILITY=\"K\" COLLECTION=\"S\" TIME_PERIOD=\"2021-S2\" OBS_VALUE=\"97640.002\" FREQ=\"H\" OBS_STATUS=\"A\" previous_value=\"\" val_result=\"\" />\n",
      "\t\t<Obs DER_TYPE=\"A\" DER_INSTR=\"T\" DER_RISK=\"L\" DER_REP_CTY=\"5J\" DER_SECTOR_CPY=\"A\" DER_CPC=\"5J\" DER_SECTOR_UDL=\"A\" DER_CURR_LEG1=\"TO1\" DER_CURR_LEG2=\"TO1\" DER_ISSUE_MAT=\"A\" DER_RATING=\"A\" DER_EX_METHOD=\"3\" DER_BASIS=\"A\" AVAILABILITY=\"K\" COLLECTION=\"S\" TIME_PERIOD=\"2022-S1\" OBS_VALUE=\"122347.497\" FREQ=\"H\" OBS_STATUS=\"A\" previous_value=\"97640.002\" val_result=\"0.7980547570989539\" />\n",
      "\t\t<Obs DER_TYPE=\"A\" DER_INSTR=\"V\" DER_RISK=\"T\" DER_REP_CTY=\"5J\" DER_SECTOR_CPY=\"M\" DER_CPC=\"5J\" DER_SECTOR_UDL=\"A\" DER_CURR_LEG1=\"TO1\" DER_CURR_LEG2=\"TO1\" DER_ISSUE_MAT=\"A\" DER_RATING=\"B\" DER_EX_METHOD=\"3\" DER_BASIS=\"C\" AVAILABILITY=\"K\" COLLECTION=\"S\" TIME_PERIOD=\"2021-S2\" OBS_VALUE=\n"
     ]
    }
   ],
   "source": [
    "data_instance.to_xml(outputPath='output_data/output_data.xml')\n",
    "print(data_instance.to_xml().getvalue()[:3000])"
   ]
  },
  {
   "cell_type": "markdown",
   "metadata": {},
   "source": [
    "We can also make use of the FMR web service to validate the generated data:"
   ]
  },
  {
   "cell_type": "code",
   "execution_count": 13,
   "metadata": {},
   "outputs": [
    {
     "name": "stdout",
     "output_type": "stream",
     "text": [
      "{\"Success\":true,\"uid\":\"913ca9c2-2598-4d98-9726-1409aea9ab5b\"}\n"
     ]
    }
   ],
   "source": [
    "import requests\n",
    "\n",
    "url = \"http://127.0.0.1:8080/ws/public/data/load\"\n",
    "files = {'uploadFile': open('output_data/output_data.xml','rb')}\n",
    "\n",
    "validate_request = requests.post(url, files=files)\n",
    "\n",
    "print(validate_request.text)"
   ]
  },
  {
   "cell_type": "code",
   "execution_count": 17,
   "metadata": {},
   "outputs": [
    {
     "name": "stdout",
     "output_type": "stream",
     "text": [
      "[{'Type': 'MandatoryAttributes', 'Errors': [{'ErrorCode': 'REG-201-051', 'Message': \"Missing mandatory attribute 'DECIMALS'\", 'Dataset': 0, 'ComponentId': 'DECIMALS', 'Position': 'Dataset'}, {'ErrorCode': 'REG-201-051', 'Message': \"Missing mandatory attribute 'UNIT_MEASURE'\", 'Dataset': 0, 'ComponentId': 'UNIT_MEASURE', 'Position': 'Dataset'}, {'ErrorCode': 'REG-201-051', 'Message': \"Missing mandatory attribute 'UNIT_MULT'\", 'Dataset': 0, 'ComponentId': 'UNIT_MULT', 'Position': 'Dataset'}]}, {'Type': 'FormatSpecific', 'Errors': [{'ErrorCode': '-', 'Message': \"Unexpected attribute 'previous_value' for element 'StructureSpecificData/DataSet/Obs'\", 'Dataset': 0, 'Position': 'Dataset'}, {'ErrorCode': '-', 'Message': \"Unexpected attribute 'val_result' for element 'StructureSpecificData/DataSet/Obs'\", 'Dataset': 0, 'Position': 'Dataset'}]}]\n"
     ]
    }
   ],
   "source": [
    "import time\n",
    "\n",
    "url = \"http://127.0.0.1:8080/ws/public/data/loadStatus\"\n",
    "uid =  json.loads(validate_request.text)['uid']\n",
    "\n",
    "time.sleep(3) # Wait for the validation to finish\n",
    "\n",
    "result_request = requests.get(f'{url}?uid={uid}')\n",
    "\n",
    "result = json.loads(result_request.text)\n",
    "\n",
    "print(result['Datasets'][0]['ValidationReport'][:2])\n"
   ]
  }
 ],
 "metadata": {
  "kernelspec": {
   "display_name": "Python 3 (ipykernel)",
   "language": "python",
   "name": "python3"
  },
  "language_info": {
   "codemirror_mode": {
    "name": "ipython",
    "version": 3
   },
   "file_extension": ".py",
   "mimetype": "text/x-python",
   "name": "python",
   "nbconvert_exporter": "python",
   "pygments_lexer": "ipython3",
   "version": "3.11.0"
  }
 },
 "nbformat": 4,
 "nbformat_minor": 4
}
