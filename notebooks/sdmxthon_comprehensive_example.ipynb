{
 "cells": [
  {
   "attachments": {},
   "cell_type": "markdown",
   "metadata": {},
   "source": [
    "Let's suppose that we have some data stored in a CSV file, which correspond to a dataflow following the BIS_DER datastructure from the BIS.\n",
    "\n",
    "We can create a Dataset object in SDMXthon, and load this CSV data (ensure you have input_data.csv file in the same directory) and the related metadata:"
   ]
  },
  {
   "cell_type": "code",
   "execution_count": 1,
   "metadata": {
    "ExecuteTime": {
     "end_time": "2024-03-05T16:49:29.993007500Z",
     "start_time": "2024-03-05T16:49:29.143886200Z"
    }
   },
   "outputs": [],
   "source": [
    "import copy\n",
    "\n",
    "import sdmxthon\n",
    "from sdmxthon.model.dataset import Dataset\n",
    "\n",
    "data_instance = Dataset(unique_id='BIS:BIS_DER(1.0)', structure_type='datastructure')\n",
    "# Load the data from a CSV file:\n",
    "data_instance.read_csv('input_data.csv')\n",
    "\n",
    "metadata = sdmxthon.read_sdmx('https://stats.bis.org/api/v1/datastructure/BIS/BIS_DER/1.0?references=all&detail=full')\n",
    "data_instance.structure = metadata.content['DataStructures']['BIS:BIS_DER(1.0)']"
   ]
  },
  {
   "attachments": {},
   "cell_type": "markdown",
   "metadata": {},
   "source": [
    "SDMXthon provides a method to do a structural validation of the data against the metadata:"
   ]
  },
  {
   "cell_type": "code",
   "execution_count": 2,
   "metadata": {
    "ExecuteTime": {
     "end_time": "2024-03-05T16:49:30.039532400Z",
     "start_time": "2024-03-05T16:49:29.991441100Z"
    }
   },
   "outputs": [
    {
     "name": "stdout",
     "output_type": "stream",
     "text": [
      "The dataset has 3 errors:\n"
     ]
    },
    {
     "data": {
      "text/plain": "[{'Code': 'SS01',\n  'ErrorLevel': 'CRITICAL',\n  'Component': 'FREQ',\n  'Type': 'Dimension',\n  'Rows': None,\n  'Message': 'Missing FREQ'},\n {'Code': 'SS03',\n  'ErrorLevel': 'CRITICAL',\n  'Component': 'OBS_STATUS',\n  'Type': 'Attribute',\n  'Rows': None,\n  'Message': 'Missing OBS_STATUS'},\n {'Code': 'SS07',\n  'ErrorLevel': 'WARNING',\n  'Component': 'Duplicated',\n  'Type': 'Datapoint',\n  'Rows': [{'DER_TYPE': 'U',\n    'DER_INSTR': 8,\n    'DER_RISK': 'D',\n    'DER_REP_CTY': '5J',\n    'DER_SECTOR_CPY': 'A',\n    'DER_CPC': '1E',\n    'DER_SECTOR_UDL': 'A',\n    'DER_CURR_LEG1': 'AUD',\n    'DER_CURR_LEG2': 'TO1',\n    'DER_ISSUE_MAT': 'A',\n    'DER_RATING': 'A',\n    'DER_EX_METHOD': 3,\n    'DER_BASIS': 'C',\n    'TIME_PERIOD': 2019,\n    'OBS_VALUE': 1221,\n    'DECIMALS': 3,\n    'UNIT_MEASURE': 'USD',\n    'UNIT_MULT': 6,\n    'TIME_FORMAT': nan,\n    'AVAILABILITY': 'K',\n    'COLLECTION': 'S',\n    'TITLE_TS': nan,\n    'OBS_CONF': 'F',\n    'OBS_PRE_BREAK': nan},\n   {'DER_TYPE': 'U',\n    'DER_INSTR': 8,\n    'DER_RISK': 'D',\n    'DER_REP_CTY': '5J',\n    'DER_SECTOR_CPY': 'A',\n    'DER_CPC': '1E',\n    'DER_SECTOR_UDL': 'A',\n    'DER_CURR_LEG1': 'AUD',\n    'DER_CURR_LEG2': 'TO1',\n    'DER_ISSUE_MAT': 'A',\n    'DER_RATING': 'A',\n    'DER_EX_METHOD': 3,\n    'DER_BASIS': 'C',\n    'TIME_PERIOD': 2019,\n    'OBS_VALUE': 2321,\n    'DECIMALS': 3,\n    'UNIT_MEASURE': 'USD',\n    'UNIT_MULT': 6,\n    'TIME_FORMAT': nan,\n    'AVAILABILITY': 'K',\n    'COLLECTION': 'S',\n    'TITLE_TS': nan,\n    'OBS_CONF': 'F',\n    'OBS_PRE_BREAK': nan}],\n  'Message': 'Duplicated datapoint  ( DER_TYPE : U )  ( DER_INSTR : 8 )  ( DER_RISK : D )  ( DER_REP_CTY : 5J )  ( DER_SECTOR_CPY : A )  ( DER_CPC : 1E )  ( DER_SECTOR_UDL : A )  ( DER_CURR_LEG1 : AUD )  ( DER_CURR_LEG2 : TO1 )  ( DER_ISSUE_MAT : A )  ( DER_RATING : A )  ( DER_EX_METHOD : 3 )  ( DER_BASIS : C )  ( TIME_PERIOD : 2019 ) '}]"
     },
     "execution_count": 2,
     "metadata": {},
     "output_type": "execute_result"
    }
   ],
   "source": [
    "validation_results = data_instance.structural_validation()\n",
    "\n",
    "print (f'The dataset has {len(validation_results)} errors:\\n')\n",
    "[error for error in validation_results]"
   ]
  },
  {
   "cell_type": "markdown",
   "source": [
    "We can also use the FMR web service to validate the generated data:"
   ],
   "metadata": {
    "collapsed": false
   }
  },
  {
   "cell_type": "code",
   "outputs": [
    {
     "data": {
      "text/plain": "[{'Type': 'MandatoryComponents',\n  'Errors': [{'ErrorCode': 'REG-201-051',\n    'Message': \"Missing mandatory attribute 'OBS_STATUS'\",\n    'Dataset': 0,\n    'ComponentId': 'OBS_STATUS',\n    'Position': 'Observation',\n    'Keys': [':U:8:D:5J:A:1E:A:AED:TO1:A:A:3:C:2019',\n     ':U:8:D:5J:A:1E:A:AED:TO1:A:A:3:C:2020',\n     ':U:8:D:5J:A:1E:A:ARS:TO1:A:A:3:C:2019',\n     ':U:8:D:5J:A:1E:A:ARS:TO1:A:A:3:C:2020',\n     ':U:8:D:5J:A:1E:A:AUD:TO1:A:A:3:C:2019',\n     ':U:8:D:5J:A:1E:A:AUD:TO1:A:A:3:C:2019',\n     ':U:8:D:5J:A:1E:A:BGN:TO1:A:A:3:C:2019',\n     ':U:8:D:5J:A:1E:A:BHD:TO1:A:A:3:C:2019',\n     ':U:8:D:5J:A:1E:A:BRL:TO1:A:A:3:C:2019',\n     ':U:8:D:5J:A:1E:A:CAD:TO1:A:A:3:C:2019',\n     ':U:8:D:5J:A:1E:A:CHF:TO1:A:A:3:C:2019',\n     ':U:8:D:5J:A:1E:A:CLP:TO1:A:A:3:C:2019',\n     ':U:8:D:5J:A:1E:A:CLP:TO1:A:A:3:C:2020']}]},\n {'Type': 'Structure',\n  'Errors': [{'ErrorCode': 'REG-201-186',\n    'Message': 'Missing value for Dimension FREQ',\n    'Dataset': 0,\n    'ComponentId': 'FREQ',\n    'Position': 'Series',\n    'Keys': [':U:8:D:5J:A:1E:A:AED:TO1:A:A:3:C',\n     ':U:8:D:5J:A:1E:A:ARS:TO1:A:A:3:C',\n     ':U:8:D:5J:A:1E:A:AUD:TO1:A:A:3:C',\n     ':U:8:D:5J:A:1E:A:BGN:TO1:A:A:3:C',\n     ':U:8:D:5J:A:1E:A:BHD:TO1:A:A:3:C',\n     ':U:8:D:5J:A:1E:A:BRL:TO1:A:A:3:C',\n     ':U:8:D:5J:A:1E:A:CAD:TO1:A:A:3:C',\n     ':U:8:D:5J:A:1E:A:CHF:TO1:A:A:3:C',\n     ':U:8:D:5J:A:1E:A:CLP:TO1:A:A:3:C']}]},\n {'Type': 'Duplicate',\n  'Errors': [{'ErrorCode': 'REG-201-230',\n    'Message': \"Duplicate value reported :U:8:D:5J:A:1E:A:AUD:TO1:A:A:3:C:2019. Reported values are: '1221' and '2321'\",\n    'Dataset': 0,\n    'ComponentId': 'OBS_VALUE',\n    'ReportedValue': '2321',\n    'Position': 'Observation',\n    'Keys': [':U:8:D:5J:A:1E:A:AUD:TO1:A:A:3:C:2019']}]}]"
     },
     "execution_count": 3,
     "metadata": {},
     "output_type": "execute_result"
    }
   ],
   "source": [
    "data_instance.fmr_validation('fmr.meaningfuldata.eu', 443, use_https=True)"
   ],
   "metadata": {
    "collapsed": false,
    "ExecuteTime": {
     "end_time": "2024-03-05T16:49:30.929090700Z",
     "start_time": "2024-03-05T16:49:30.023977100Z"
    }
   },
   "execution_count": 3
  },
  {
   "attachments": {},
   "cell_type": "markdown",
   "metadata": {},
   "source": [
    "Thus, the dataset is incorrect, because there are some duplicated values, and the dimension 'FREQ' and the mandatory attribute 'OBS_STATUS' are missing.\n",
    "It is possible to use Pandas to correct the dataset:"
   ]
  },
  {
   "cell_type": "code",
   "execution_count": 4,
   "metadata": {
    "ExecuteTime": {
     "end_time": "2024-03-05T16:49:30.975645400Z",
     "start_time": "2024-03-05T16:49:30.930691900Z"
    }
   },
   "outputs": [
    {
     "name": "stdout",
     "output_type": "stream",
     "text": [
      "The dataset has 0 errors:\n",
      " []\n"
     ]
    }
   ],
   "source": [
    "wrong_data = copy.deepcopy(data_instance.data)\n",
    "data_instance.data['FREQ'] = 'A'\n",
    "data_instance.data['OBS_STATUS'] = 'A'\n",
    "data_instance.data.drop_duplicates(inplace=True, keep='first', subset=data_instance.structure.dimension_codes)\n",
    "\n",
    "validation_results = data_instance.structural_validation()\n",
    "print (f'The dataset has {len(validation_results)} errors:\\n {[error[\"Message\"] for error in validation_results]}')"
   ]
  },
  {
   "attachments": {},
   "cell_type": "markdown",
   "metadata": {},
   "source": [
    "Let's now suppose that we want to validate that each observation is within 50% of the observation for the previous period. Again, we can use Panda's capabilities to perform these validations: "
   ]
  },
  {
   "cell_type": "code",
   "execution_count": 5,
   "metadata": {
    "ExecuteTime": {
     "end_time": "2024-03-05T16:49:30.976648200Z",
     "start_time": "2024-03-05T16:49:30.962634300Z"
    }
   },
   "outputs": [
    {
     "name": "stdout",
     "output_type": "stream",
     "text": [
      "Data length: 12\n",
      "Number of errors: 0\n"
     ]
    }
   ],
   "source": [
    "#Get list of dimensions excluding TIME_PERIOD:\n",
    "dimension_descriptor = data_instance.structure.dimension_descriptor.components\n",
    "dimension_list = [key for key in dimension_descriptor]\n",
    "dimension_list.remove('TIME_PERIOD')\n",
    "\n",
    "\n",
    "# Add a field with the previous value of the series:\n",
    "data_instance.data[\"previous_value\"] = \\\n",
    "    data_instance.data.sort_values(\"TIME_PERIOD\").groupby(dimension_list)\\\n",
    "            [\"OBS_VALUE\"].shift(1)\n",
    "\n",
    "\n",
    "# Get if value is between the percentage of the previous value:\n",
    "data_instance.data[\"val_result\"] = data_instance.data[\"previous_value\"] / data_instance.data[\"OBS_VALUE\"]\n",
    "errors = data_instance.data[~data_instance.data[\"val_result\"].between(0.8, 1.2)].dropna()\n",
    "\n",
    "#Drop inmaterial observations (previous or current below 1000):\n",
    "errors = errors[(errors['previous_value'] > 1000) |  (errors['OBS_VALUE'] > 1000)]\n",
    "\n",
    "print(f\"Data length: {len(data_instance.data)}\")\n",
    "print(f\"Number of errors: {len(errors)}\")\n",
    "\n",
    "errors.to_dict(orient=\"records\")\n",
    "\n",
    "# Delete the added fields:\n",
    "data_instance.data.drop(columns=[\"previous_value\", \"val_result\"], inplace=True)\n",
    "\n"
   ]
  },
  {
   "attachments": {},
   "cell_type": "markdown",
   "metadata": {},
   "source": [
    "SDMXthon provides a method to simply generate an SDMX-ML message from a Dataset object.\n",
    "The message is generated as a string, but it is also possible to set a path to save the data as a file (using 'output_path' parameter). \n",
    "You can use the prettyprint parameter to generate a more readable XML."
   ]
  },
  {
   "cell_type": "code",
   "execution_count": 6,
   "metadata": {
    "ExecuteTime": {
     "end_time": "2024-03-05T16:49:31.019516800Z",
     "start_time": "2024-03-05T16:49:30.975645400Z"
    }
   },
   "outputs": [
    {
     "name": "stdout",
     "output_type": "stream",
     "text": [
      "<?xml version=\"1.0\" encoding=\"UTF-8\"?>\n",
      "<mes:StructureSpecificData xmlns:xsi=\"http://www.w3.org/2001/XMLSchema-instance\" xmlns:mes=\"http://www.sdmx.org/resources/sdmxml/schemas/v2_1/message\" xmlns:ss=\"http://www.sdmx.org/resources/sdmxml/schemas/v2_1/data/structurespecific\" xmlns:ns1=\"urn:sdmx:org.sdmx.infomodel.datastructure.DataStructure=BIS:BIS_DER(1.0):ObsLevelDim:AllDimensions\" xmlns:com=\"http://www.sdmx.org/resources/sdmxml/schemas/v2_1/common\" xsi:schemaLocation=\"http://www.sdmx.org/resources/sdmxml/schemas/v2_1/message https://registry.sdmx.org/schemas/v2_1/SDMXMessage.xsd\">\n",
      "\t<mes:Header>\n",
      "\t\t<mes:ID>test</mes:ID>\n",
      "\t\t<mes:Test>true</mes:Test>\n",
      "\t\t<mes:Prepared>2024-03-05T17:49:30</mes:Prepared>\n",
      "\t\t<mes:Sender id=\"Unknown\"/>\n",
      "\t\t<mes:Receiver id=\"Not_supplied\"/>\n",
      "\t\t<mes:Structure structureID=\"BIS_DER\" namespace=\"urn:sdmx:org.sdmx.infomodel.datastructure.DataStructure=BIS:BIS_DER(1.0)\" dimensionAtObservation=\"AllDimensions\">\n",
      "\t\t\t<com:Structure>\n",
      "\t\t\t\t<Ref agencyID=\"BIS\" id=\"BIS_DER\" version=\"1.0\" class=\"DataStructure\"/>\n",
      "\t\t\t</com:Structure>\n",
      "\t\t</mes:Structure>\n",
      "\t\t<mes:Source xml:lang=\"en\">SDMXthon</mes:Source>\n",
      "\t</mes:Header>\n",
      "\t<mes:DataSet DECIMALS=\"3\" UNIT_MEASURE=\"USD\" UNIT_MULT=\"6\" ss:structureRef=\"BIS_DER\" xsi:type=\"ns1:DataSetType\" ss:dataScope=\"DataStructure\" action=\"Replace\">\n",
      "\t\t<Obs DER_TYPE=\"U\" DER_INSTR=\"8\" DER_RISK=\"D\" DER_REP_CTY=\"5J\" DER_SECTOR_CPY=\"A\" DER_CPC=\"1E\" DER_SECTOR_UDL=\"A\" DER_CURR_LEG1=\"AED\" DER_CURR_LEG2=\"TO1\" DER_ISSUE_MAT=\"A\" DER_RATING=\"A\" DER_EX_METHOD=\"3\" DER_BASIS=\"C\" TIME_PERIOD=\"2019\" OBS_VALUE=\"1000\" AVAILABILITY=\"K\" COLLECTION=\"S\" OBS_CONF=\"F\" FREQ=\"A\" OBS_STATUS=\"A\" />\n",
      "\t\t<Obs DER_TYPE=\"U\" DER_INSTR=\"8\" DER_RISK=\"D\" DER_REP_CTY=\"5J\" DER_SECTOR_CPY=\"A\" DER_CPC=\"1E\" DER_SECTOR_UDL=\"A\" DER_CURR_LEG1=\"AED\" DER_CURR_LEG2=\"TO1\" DER_ISSUE_MAT=\"A\" DER_RATING=\"A\" DER_EX_METHOD=\"3\" DER_BASIS=\"C\" TIME_PERIOD=\"2020\" OBS_VALUE=\"500\" AVAILABILITY=\"K\" COLLECTION=\"S\" OBS_CONF=\"F\" FREQ=\"A\" OBS_STATUS=\"A\" />\n",
      "\t\t<Obs DER_TYPE=\"U\" DER_INSTR=\"8\" DER_RISK=\"D\" DER_REP_CTY=\"5J\" DER_SECTOR_CPY=\"A\" DER_CPC=\"1E\" DER_SECTOR_UDL=\"A\" DER_CURR_LEG1=\"ARS\" DER_CURR_LEG2=\"TO1\" DER_ISSUE_MAT=\"A\" DER_RATING=\"A\" DER_EX_METHOD=\"3\" DER_BASIS=\"C\" TIME_PERIOD=\"2019\" OBS_VALUE=\"200\" AVAILABILITY=\"K\" COLLECTION=\"S\" OBS_CONF=\"F\" FREQ=\"A\" OBS_STATUS=\"A\" />\n",
      "\t\t<Obs DER_TYPE=\"U\" DER_INSTR=\"8\" DER_RISK=\"D\" DER_REP_CTY=\"5J\" DER_SECTOR_CPY=\"A\" DER_CPC=\"1E\" DER_SECTOR_UDL=\"A\" DER_CURR_LEG1=\"ARS\" DER_CURR_LEG2=\"TO1\" DER_ISSUE_MAT=\"A\" DER_RATING=\"A\" DER_EX_METHOD=\"3\" DER_BASIS=\"C\" TIME_PERIOD=\"2020\" OBS_VALUE=\"100\" AVAILABILITY=\"K\" COLLECTION=\"S\" OBS_CONF=\"F\" FREQ=\"A\" OBS_STATUS=\"A\" />\n",
      "\t\t<Obs DER_TYPE=\"U\" DER_INSTR=\"8\" DER_RISK=\"D\" DER_REP_CTY=\"5J\" DER_SECTOR_CPY=\"A\" DER_CPC=\"1E\" DER_SECTOR_UDL=\"A\" DER_CURR_LEG1=\"AUD\" DER_CURR_LEG2=\"TO1\" DER_ISSUE_MAT=\"A\" DER_RATING=\"A\" DER_EX_METHOD=\"3\" DER_BASIS=\"C\" TIME_PERIOD=\"2019\" OBS_VALUE=\"1221\" AVAILABILITY=\"K\" COLLECTION=\"S\" OBS_CONF=\"F\" FREQ=\"A\" OBS_STATUS=\"A\" />\n",
      "\t\t<Obs DER_TYPE=\"U\" DER_INSTR=\"8\" DER_RISK=\"D\" DER_REP_CTY=\"5J\" DER_SECTOR_CPY=\"A\" DER_CPC=\"1E\" DER_SECTOR_UDL=\"A\" DER_CURR_LEG1=\"BGN\" DER_CURR_LEG2=\"TO1\" DER_ISSUE_MAT=\"A\" DER_RATING=\"A\" DER_EX_METHOD=\"3\" DER_BASIS=\"C\" TIME_PERIOD=\"2019\" OBS_VALUE=\"2131\" AVAILABILITY=\"K\" COLLECTION=\"S\" OBS_CONF=\"F\" FREQ=\"A\" OBS_STATUS=\"A\" />\n",
      "\t\t<Obs DER_TYPE=\"U\" DER_INSTR=\"8\" DER_RISK=\"D\" DER_REP_CTY=\"5J\" DER_SECTOR_CPY=\"A\" DER_CPC=\"1E\" DER_SECTOR_UDL=\"A\" DER_CURR_LEG1=\"BHD\" DER_CURR_LEG2=\"TO1\" DER_ISSUE_MAT=\"A\" DER_RATING=\"A\" DER_EX_METHOD=\"3\" DER_BASIS=\"C\" TIME_PERIOD=\"2019\" OBS_VALUE=\"1231\" AVAILABILITY=\"K\" COLLECTION=\"S\" OBS_CONF=\"F\" FREQ=\"A\" OBS_STATUS=\"A\" />\n",
      "\t\t<Obs DER_TYPE=\"U\" DER_INSTR=\"8\" DER_RISK=\"D\" DER_REP_CTY=\"5J\" DER_SECTOR_CPY=\"A\" DER_CPC=\"1E\" DER_SECTOR_UDL=\"A\" DER_CURR_LEG1=\"BRL\" DER_CURR_LEG2=\"TO1\" DER_ISSUE_MAT=\"A\" DER_RATING=\"A\" DER_EX_METHOD=\"3\" DER_BASIS=\"C\" TIME_PERIOD=\"2019\" OBS_VALUE=\"3231\" AVAILABILITY=\"K\" COLLECTION=\"S\" OBS_CONF=\"F\" FREQ=\"A\" OBS_STATUS=\"A\" />\n",
      "\t\t<Obs DER_TYPE=\"U\" DER_INSTR=\"8\" DER_RISK=\"D\" DER_REP_CTY=\"5J\" DER_SECTOR_CPY=\"A\" DER_CPC=\"1E\" DER_SECTOR_UDL=\"A\" DER_CURR_LEG1=\"CAD\" DER_CURR_LEG2=\"TO1\" DER_ISSUE_MAT=\"A\" DER_RATING=\"A\" DER_EX_METHOD=\"3\" DER_BASIS=\"C\" TIME_PERIOD=\"2019\" OBS_VALUE=\"5312\" AVAILABILITY=\"K\" COLLECTION=\"S\" OBS_CONF=\"F\" FREQ=\"A\" OBS_STATUS=\"A\" />\n",
      "\t\t<Obs DER_TYPE=\"U\" DER_INSTR=\"8\" DER_RISK=\"D\" DER_REP_CTY=\"5J\" DER_SECTOR_CPY=\"A\" DER_CPC=\"1E\" DER_SECTOR_UDL=\"A\" DER_CURR_LEG1=\"CHF\" DER_CURR_LEG2=\"TO1\" DER_ISSUE_MAT=\"A\" DER_RATING=\"A\" DER_EX_METHOD=\"3\" DER_BASIS=\"C\" TIME_PERIOD=\"2019\" OBS_VALUE=\"321312\" AVAILABILITY=\"K\" COLLECTION=\"S\" OBS_CONF=\"F\" FREQ=\"A\" OBS_STATUS=\"A\" />\n",
      "\t\t<Obs DER_TYPE=\"U\" DER_INSTR=\"8\" DER_RISK=\"D\" DER_REP_CTY=\"5J\" DER_SECTOR_CPY=\"A\" DER_CPC=\"1E\" DER_SECTOR_UDL=\"A\" DER_CURR_LEG1=\"CLP\" DER_CURR_LEG2=\"TO1\" DER_ISSUE_MAT=\"A\" DER_RATING=\"A\" DER_EX_METHOD=\"3\" DER_BASIS=\"C\" TIME_PERIOD=\"2019\" OBS_VALUE=\"312321\" AVAILABILITY=\"K\" COLLECTION=\"S\" OBS_CONF=\"F\" FREQ=\"A\" OBS_STATUS=\"A\" />\n",
      "\t\t<Obs DER_TYPE=\"U\" DER_INSTR=\"8\" DER_RISK=\"D\" DER_REP_CTY=\"5J\" DER_SECTOR_CPY=\"A\" DER_CPC=\"1E\" DER_SECTOR_UDL=\"A\" DER_CURR_LEG1=\"CLP\" DER_CURR_LEG2=\"TO1\" DER_ISSUE_MAT=\"A\" DER_RATING=\"A\" DER_EX_METHOD=\"3\" DER_BASIS=\"C\" TIME_PERIOD=\"2020\" OBS_VALUE=\"312321\" AVAILABILITY=\"K\" COLLECTION=\"S\" OBS_CONF=\"F\" FREQ=\"A\" OBS_STATUS=\"A\" />\n",
      "\t</mes:DataSet>\n",
      "</mes:StructureSpecificData>\n"
     ]
    }
   ],
   "source": [
    "print(data_instance.to_xml(prettyprint=True))"
   ]
  },
  {
   "attachments": {},
   "cell_type": "markdown",
   "metadata": {},
   "source": []
  }
 ],
 "metadata": {
  "kernelspec": {
   "display_name": "sdmx-nELv1vYW",
   "language": "python",
   "name": "python3"
  },
  "language_info": {
   "codemirror_mode": {
    "name": "ipython",
    "version": 3
   },
   "file_extension": ".py",
   "mimetype": "text/x-python",
   "name": "python",
   "nbconvert_exporter": "python",
   "pygments_lexer": "ipython3",
   "version": "3.11.0"
  },
  "orig_nbformat": 4
 },
 "nbformat": 4,
 "nbformat_minor": 2
}
