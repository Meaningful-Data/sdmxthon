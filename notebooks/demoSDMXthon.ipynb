{
 "cells": [
  {
   "cell_type": "code",
   "execution_count": 1,
   "metadata": {},
   "outputs": [],
   "source": [
    "import sqlite3\n",
    "import pandas as pd\n",
    "import sdmxthon\n",
    "from sdmxthon.model.dataset import Dataset\n",
    "from sdmxthon.model.itemScheme import Concept\n",
    "from sdmxthon.model.component import Dimension\n",
    "from sdmxthon.model.base import LocalisedString, InternationalString"
   ]
  },
  {
   "cell_type": "markdown",
   "metadata": {},
   "source": [
    "### Defining files and path to DB and URL to Fusion Registry"
   ]
  },
  {
   "cell_type": "code",
   "execution_count": 2,
   "metadata": {},
   "outputs": [],
   "source": [
    "pathTestXS = 'sdmxthon/outputTests/test_XS.xml'\n",
    "pathToDB = 'sdmxthon/outputTests/BIS_DER_OUTS.db'\n",
    "pathToData = 'sdmxthon/outputTests/BIS_DER_DATAFLOW.xml'\n",
    "pathTestMetadata = 'sdmxthon/outputTests/metadata.xml'\n",
    "\n",
    "\n",
    "urlECB = 'http://ec.europa.eu/eurostat/SDMX/diss-web/rest/data/nama_10_gdp/.CLV10_MEUR.B1GQ.BE/?startperiod=2005&endPeriod=2011'\n",
    "urlMetadata = 'http://fusionregistry.meaningfuldata.eu/MetadataRegistry/ws/public/sdmxapi/rest/datastructure/BIS/BIS_DER/latest/?format=sdmx-2.1&detail=full&references=all&prettyPrint=true'"
   ]
  },
  {
   "cell_type": "markdown",
   "metadata": {},
   "source": [
    "### Reading an SDMX file"
   ]
  },
  {
   "cell_type": "code",
   "execution_count": 3,
   "metadata": {},
   "outputs": [
    {
     "name": "stdout",
     "output_type": "stream",
     "text": [
      "MessageTypeEnum.Metadata\n"
     ]
    }
   ],
   "source": [
    "message = sdmxthon.read_sdmx(urlMetadata)\n",
    "print(message.type)"
   ]
  },
  {
   "cell_type": "code",
   "execution_count": 4,
   "metadata": {},
   "outputs": [
    {
     "data": {
      "text/plain": [
       "{'BIS:BIS_DER(1.0)': <DataStructureDefinition  - BIS:BIS_DER(1.0)>}"
      ]
     },
     "execution_count": 4,
     "metadata": {},
     "output_type": "execute_result"
    }
   ],
   "source": [
    "message.payload.dsds"
   ]
  },
  {
   "cell_type": "code",
   "execution_count": 5,
   "metadata": {},
   "outputs": [
    {
     "data": {
      "text/plain": [
       "{'codelists': {'BIS:CL_AVAILABILITY(1.0)': <Codelist - CL_AVAILABILITY>,\n",
       "  'BIS:CL_BIS_IF_REF_AREA(1.0)': <Codelist - CL_BIS_IF_REF_AREA>,\n",
       "  'BIS:CL_BIS_UNIT(1.0)': <Codelist - CL_BIS_UNIT>,\n",
       "  'BIS:CL_COLLECTION(1.0)': <Codelist - CL_COLLECTION>,\n",
       "  'BIS:CL_CONF_STATUS(1.0)': <Codelist - CL_CONF_STATUS>,\n",
       "  'BIS:CL_DECIMALS(1.0)': <Codelist - CL_DECIMALS>,\n",
       "  'BIS:CL_DER_BASIS(1.0)': <Codelist - CL_DER_BASIS>,\n",
       "  'BIS:CL_DER_INSTR(1.0)': <Codelist - CL_DER_INSTR>,\n",
       "  'BIS:CL_EX_METHOD(1.0)': <Codelist - CL_EX_METHOD>,\n",
       "  'BIS:CL_FREQ(1.0)': <Codelist - CL_FREQ>,\n",
       "  'BIS:CL_ISSUE_MAT(1.0)': <Codelist - CL_ISSUE_MAT>,\n",
       "  'BIS:CL_MARKET_RISK(1.0)': <Codelist - CL_MARKET_RISK>,\n",
       "  'BIS:CL_OBS_STATUS(1.0)': <Codelist - CL_OBS_STATUS>,\n",
       "  'BIS:CL_OD_CPARTY(1.0)': <Codelist - CL_OD_CPARTY>,\n",
       "  'BIS:CL_OD_CURR_MAT_REG(1.0)': <Codelist - CL_OD_CURR_MAT_REG>,\n",
       "  'BIS:CL_OD_REP_CTY(1.0)': <Codelist - CL_OD_REP_CTY>,\n",
       "  'BIS:CL_OD_TYPE(1.0)': <Codelist - CL_OD_TYPE>,\n",
       "  'BIS:CL_RATING(1.0)': <Codelist - CL_RATING>,\n",
       "  'BIS:CL_SECTOR_CPY(1.0)': <Codelist - CL_SECTOR_CPY>,\n",
       "  'BIS:CL_SECTOR_UDL(1.0)': <Codelist - CL_SECTOR_UDL>,\n",
       "  'BIS:CL_TIME_FORMAT(1.0)': <Codelist - CL_TIME_FORMAT>,\n",
       "  'BIS:CL_UNIT_MULT(1.0)': <Codelist - CL_UNIT_MULT>},\n",
       " 'concepts': {'BIS:BIS_CONCEPT_SCHEME(1.0)': <ConceptScheme - BIS:BIS_CONCEPT_SCHEME(1.0)>},\n",
       " 'dataflows': {'BIS:WEBSTATS_DER_DATAFLOW(1.0)': <DataFlowDefinition - BIS:WEBSTATS_DER_DATAFLOW(1.0)>},\n",
       " 'dsds': {'BIS:BIS_DER(1.0)': <DataStructureDefinition  - BIS:BIS_DER(1.0)>},\n",
       " 'organisations': <AgencyScheme - SDMX:AGENCIES(1.0)>}"
      ]
     },
     "execution_count": 5,
     "metadata": {},
     "output_type": "execute_result"
    }
   ],
   "source": [
    "message.content"
   ]
  },
  {
   "cell_type": "markdown",
   "metadata": {},
   "source": [
    "### Read data from SDMX file"
   ]
  },
  {
   "cell_type": "code",
   "execution_count": 6,
   "metadata": {
    "pycharm": {
     "name": "#%%\n"
    }
   },
   "outputs": [],
   "source": [
    "data_message = sdmxthon.read_sdmx(urlECB)"
   ]
  },
  {
   "cell_type": "code",
   "execution_count": 7,
   "metadata": {
    "pycharm": {
     "name": "#%%\n"
    }
   },
   "outputs": [
    {
     "data": {
      "text/html": [
       "<div>\n",
       "<style scoped>\n",
       "    .dataframe tbody tr th:only-of-type {\n",
       "        vertical-align: middle;\n",
       "    }\n",
       "\n",
       "    .dataframe tbody tr th {\n",
       "        vertical-align: top;\n",
       "    }\n",
       "\n",
       "    .dataframe thead th {\n",
       "        text-align: right;\n",
       "    }\n",
       "</style>\n",
       "<table border=\"1\" class=\"dataframe\">\n",
       "  <thead>\n",
       "    <tr style=\"text-align: right;\">\n",
       "      <th></th>\n",
       "      <th>NA_ITEM</th>\n",
       "      <th>UNIT</th>\n",
       "      <th>GEO</th>\n",
       "      <th>FREQ</th>\n",
       "      <th>TIME_PERIOD</th>\n",
       "      <th>OBS_VALUE</th>\n",
       "    </tr>\n",
       "  </thead>\n",
       "  <tbody>\n",
       "    <tr>\n",
       "      <th>0</th>\n",
       "      <td>B1GQ</td>\n",
       "      <td>CLV10_MEUR</td>\n",
       "      <td>BE</td>\n",
       "      <td>A</td>\n",
       "      <td>2011</td>\n",
       "      <td>369293.6</td>\n",
       "    </tr>\n",
       "    <tr>\n",
       "      <th>1</th>\n",
       "      <td>B1GQ</td>\n",
       "      <td>CLV10_MEUR</td>\n",
       "      <td>BE</td>\n",
       "      <td>A</td>\n",
       "      <td>2010</td>\n",
       "      <td>363140.1</td>\n",
       "    </tr>\n",
       "    <tr>\n",
       "      <th>2</th>\n",
       "      <td>B1GQ</td>\n",
       "      <td>CLV10_MEUR</td>\n",
       "      <td>BE</td>\n",
       "      <td>A</td>\n",
       "      <td>2009</td>\n",
       "      <td>353028.3</td>\n",
       "    </tr>\n",
       "    <tr>\n",
       "      <th>3</th>\n",
       "      <td>B1GQ</td>\n",
       "      <td>CLV10_MEUR</td>\n",
       "      <td>BE</td>\n",
       "      <td>A</td>\n",
       "      <td>2008</td>\n",
       "      <td>360309.3</td>\n",
       "    </tr>\n",
       "    <tr>\n",
       "      <th>4</th>\n",
       "      <td>B1GQ</td>\n",
       "      <td>CLV10_MEUR</td>\n",
       "      <td>BE</td>\n",
       "      <td>A</td>\n",
       "      <td>2007</td>\n",
       "      <td>358706.1</td>\n",
       "    </tr>\n",
       "    <tr>\n",
       "      <th>5</th>\n",
       "      <td>B1GQ</td>\n",
       "      <td>CLV10_MEUR</td>\n",
       "      <td>BE</td>\n",
       "      <td>A</td>\n",
       "      <td>2006</td>\n",
       "      <td>345984.7</td>\n",
       "    </tr>\n",
       "    <tr>\n",
       "      <th>6</th>\n",
       "      <td>B1GQ</td>\n",
       "      <td>CLV10_MEUR</td>\n",
       "      <td>BE</td>\n",
       "      <td>A</td>\n",
       "      <td>2005</td>\n",
       "      <td>337373.7</td>\n",
       "    </tr>\n",
       "  </tbody>\n",
       "</table>\n",
       "</div>"
      ],
      "text/plain": [
       "  NA_ITEM        UNIT GEO FREQ TIME_PERIOD OBS_VALUE\n",
       "0    B1GQ  CLV10_MEUR  BE    A        2011  369293.6\n",
       "1    B1GQ  CLV10_MEUR  BE    A        2010  363140.1\n",
       "2    B1GQ  CLV10_MEUR  BE    A        2009  353028.3\n",
       "3    B1GQ  CLV10_MEUR  BE    A        2008  360309.3\n",
       "4    B1GQ  CLV10_MEUR  BE    A        2007  358706.1\n",
       "5    B1GQ  CLV10_MEUR  BE    A        2006  345984.7\n",
       "6    B1GQ  CLV10_MEUR  BE    A        2005  337373.7"
      ]
     },
     "execution_count": 7,
     "metadata": {},
     "output_type": "execute_result"
    }
   ],
   "source": [
    "data_message.content['datasets']['ESTAT_DSD_nama_10_gdp_1_0'].data"
   ]
  },
  {
   "cell_type": "markdown",
   "metadata": {},
   "source": [
    "### Read data from DB and create SDMX file"
   ]
  },
  {
   "cell_type": "code",
   "execution_count": 8,
   "metadata": {
    "pycharm": {
     "name": "#%%\n"
    }
   },
   "outputs": [
    {
     "data": {
      "text/html": [
       "<div>\n",
       "<style scoped>\n",
       "    .dataframe tbody tr th:only-of-type {\n",
       "        vertical-align: middle;\n",
       "    }\n",
       "\n",
       "    .dataframe tbody tr th {\n",
       "        vertical-align: top;\n",
       "    }\n",
       "\n",
       "    .dataframe thead th {\n",
       "        text-align: right;\n",
       "    }\n",
       "</style>\n",
       "<table border=\"1\" class=\"dataframe\">\n",
       "  <thead>\n",
       "    <tr style=\"text-align: right;\">\n",
       "      <th></th>\n",
       "      <th>FREQ</th>\n",
       "      <th>DER_TYPE</th>\n",
       "      <th>DER_INSTR</th>\n",
       "      <th>DER_RISK</th>\n",
       "      <th>DER_REP_CTY</th>\n",
       "      <th>DER_SECTOR_CPY</th>\n",
       "      <th>DER_CPC</th>\n",
       "      <th>DER_SECTOR_UDL</th>\n",
       "      <th>DER_CURR_LEG1</th>\n",
       "      <th>DER_CURR_LEG2</th>\n",
       "      <th>...</th>\n",
       "      <th>DECIMALS</th>\n",
       "      <th>UNIT_MEASURE</th>\n",
       "      <th>UNIT_MULT</th>\n",
       "      <th>TIME_FORMAT</th>\n",
       "      <th>AVAILABILITY</th>\n",
       "      <th>COLLECTION</th>\n",
       "      <th>TITLE_TS</th>\n",
       "      <th>OBS_STATUS</th>\n",
       "      <th>OBS_CONF</th>\n",
       "      <th>OBS_PRE_BREAK</th>\n",
       "    </tr>\n",
       "  </thead>\n",
       "  <tbody>\n",
       "    <tr>\n",
       "      <th>0</th>\n",
       "      <td>A</td>\n",
       "      <td>U</td>\n",
       "      <td>8</td>\n",
       "      <td>D</td>\n",
       "      <td>5J</td>\n",
       "      <td>A</td>\n",
       "      <td>1E</td>\n",
       "      <td>A</td>\n",
       "      <td>AED</td>\n",
       "      <td>TO1</td>\n",
       "      <td>...</td>\n",
       "      <td>3</td>\n",
       "      <td>USD</td>\n",
       "      <td>6</td>\n",
       "      <td>None</td>\n",
       "      <td>K</td>\n",
       "      <td>S</td>\n",
       "      <td>None</td>\n",
       "      <td>A</td>\n",
       "      <td>F</td>\n",
       "      <td>None</td>\n",
       "    </tr>\n",
       "    <tr>\n",
       "      <th>1</th>\n",
       "      <td>A</td>\n",
       "      <td>U</td>\n",
       "      <td>8</td>\n",
       "      <td>D</td>\n",
       "      <td>5J</td>\n",
       "      <td>A</td>\n",
       "      <td>1E</td>\n",
       "      <td>A</td>\n",
       "      <td>ARS</td>\n",
       "      <td>TO1</td>\n",
       "      <td>...</td>\n",
       "      <td>3</td>\n",
       "      <td>USD</td>\n",
       "      <td>6</td>\n",
       "      <td>None</td>\n",
       "      <td>K</td>\n",
       "      <td>S</td>\n",
       "      <td>None</td>\n",
       "      <td>A</td>\n",
       "      <td>F</td>\n",
       "      <td>None</td>\n",
       "    </tr>\n",
       "    <tr>\n",
       "      <th>2</th>\n",
       "      <td>A</td>\n",
       "      <td>U</td>\n",
       "      <td>8</td>\n",
       "      <td>D</td>\n",
       "      <td>5J</td>\n",
       "      <td>A</td>\n",
       "      <td>1E</td>\n",
       "      <td>A</td>\n",
       "      <td>AUD</td>\n",
       "      <td>TO1</td>\n",
       "      <td>...</td>\n",
       "      <td>3</td>\n",
       "      <td>USD</td>\n",
       "      <td>6</td>\n",
       "      <td>None</td>\n",
       "      <td>K</td>\n",
       "      <td>S</td>\n",
       "      <td>None</td>\n",
       "      <td>A</td>\n",
       "      <td>F</td>\n",
       "      <td>None</td>\n",
       "    </tr>\n",
       "    <tr>\n",
       "      <th>3</th>\n",
       "      <td>A</td>\n",
       "      <td>U</td>\n",
       "      <td>8</td>\n",
       "      <td>D</td>\n",
       "      <td>5J</td>\n",
       "      <td>A</td>\n",
       "      <td>1E</td>\n",
       "      <td>A</td>\n",
       "      <td>BGN</td>\n",
       "      <td>TO1</td>\n",
       "      <td>...</td>\n",
       "      <td>3</td>\n",
       "      <td>USD</td>\n",
       "      <td>6</td>\n",
       "      <td>None</td>\n",
       "      <td>K</td>\n",
       "      <td>S</td>\n",
       "      <td>None</td>\n",
       "      <td>A</td>\n",
       "      <td>F</td>\n",
       "      <td>None</td>\n",
       "    </tr>\n",
       "    <tr>\n",
       "      <th>4</th>\n",
       "      <td>A</td>\n",
       "      <td>U</td>\n",
       "      <td>8</td>\n",
       "      <td>D</td>\n",
       "      <td>5J</td>\n",
       "      <td>A</td>\n",
       "      <td>1E</td>\n",
       "      <td>A</td>\n",
       "      <td>BHD</td>\n",
       "      <td>TO1</td>\n",
       "      <td>...</td>\n",
       "      <td>3</td>\n",
       "      <td>USD</td>\n",
       "      <td>6</td>\n",
       "      <td>None</td>\n",
       "      <td>K</td>\n",
       "      <td>S</td>\n",
       "      <td>None</td>\n",
       "      <td>A</td>\n",
       "      <td>F</td>\n",
       "      <td>None</td>\n",
       "    </tr>\n",
       "    <tr>\n",
       "      <th>...</th>\n",
       "      <td>...</td>\n",
       "      <td>...</td>\n",
       "      <td>...</td>\n",
       "      <td>...</td>\n",
       "      <td>...</td>\n",
       "      <td>...</td>\n",
       "      <td>...</td>\n",
       "      <td>...</td>\n",
       "      <td>...</td>\n",
       "      <td>...</td>\n",
       "      <td>...</td>\n",
       "      <td>...</td>\n",
       "      <td>...</td>\n",
       "      <td>...</td>\n",
       "      <td>...</td>\n",
       "      <td>...</td>\n",
       "      <td>...</td>\n",
       "      <td>...</td>\n",
       "      <td>...</td>\n",
       "      <td>...</td>\n",
       "      <td>...</td>\n",
       "    </tr>\n",
       "    <tr>\n",
       "      <th>164097</th>\n",
       "      <td>A</td>\n",
       "      <td>U</td>\n",
       "      <td>Z</td>\n",
       "      <td>D</td>\n",
       "      <td>US</td>\n",
       "      <td>C</td>\n",
       "      <td>5Z</td>\n",
       "      <td>A</td>\n",
       "      <td>TO1</td>\n",
       "      <td>TO1</td>\n",
       "      <td>...</td>\n",
       "      <td>3</td>\n",
       "      <td>USD</td>\n",
       "      <td>6</td>\n",
       "      <td>None</td>\n",
       "      <td>K</td>\n",
       "      <td>S</td>\n",
       "      <td>None</td>\n",
       "      <td>A</td>\n",
       "      <td>F</td>\n",
       "      <td>None</td>\n",
       "    </tr>\n",
       "    <tr>\n",
       "      <th>164098</th>\n",
       "      <td>A</td>\n",
       "      <td>U</td>\n",
       "      <td>Z</td>\n",
       "      <td>D</td>\n",
       "      <td>US</td>\n",
       "      <td>U</td>\n",
       "      <td>1E</td>\n",
       "      <td>A</td>\n",
       "      <td>TO1</td>\n",
       "      <td>TO1</td>\n",
       "      <td>...</td>\n",
       "      <td>3</td>\n",
       "      <td>USD</td>\n",
       "      <td>6</td>\n",
       "      <td>None</td>\n",
       "      <td>K</td>\n",
       "      <td>S</td>\n",
       "      <td>None</td>\n",
       "      <td>A</td>\n",
       "      <td>F</td>\n",
       "      <td>None</td>\n",
       "    </tr>\n",
       "    <tr>\n",
       "      <th>164099</th>\n",
       "      <td>A</td>\n",
       "      <td>U</td>\n",
       "      <td>Z</td>\n",
       "      <td>D</td>\n",
       "      <td>US</td>\n",
       "      <td>U</td>\n",
       "      <td>5J</td>\n",
       "      <td>A</td>\n",
       "      <td>TO1</td>\n",
       "      <td>TO1</td>\n",
       "      <td>...</td>\n",
       "      <td>3</td>\n",
       "      <td>USD</td>\n",
       "      <td>6</td>\n",
       "      <td>None</td>\n",
       "      <td>K</td>\n",
       "      <td>S</td>\n",
       "      <td>None</td>\n",
       "      <td>A</td>\n",
       "      <td>F</td>\n",
       "      <td>None</td>\n",
       "    </tr>\n",
       "    <tr>\n",
       "      <th>164100</th>\n",
       "      <td>A</td>\n",
       "      <td>U</td>\n",
       "      <td>Z</td>\n",
       "      <td>D</td>\n",
       "      <td>US</td>\n",
       "      <td>U</td>\n",
       "      <td>5Z</td>\n",
       "      <td>A</td>\n",
       "      <td>TO1</td>\n",
       "      <td>TO1</td>\n",
       "      <td>...</td>\n",
       "      <td>3</td>\n",
       "      <td>USD</td>\n",
       "      <td>6</td>\n",
       "      <td>None</td>\n",
       "      <td>K</td>\n",
       "      <td>S</td>\n",
       "      <td>None</td>\n",
       "      <td>A</td>\n",
       "      <td>F</td>\n",
       "      <td>None</td>\n",
       "    </tr>\n",
       "    <tr>\n",
       "      <th>164101</th>\n",
       "      <td>A</td>\n",
       "      <td>U</td>\n",
       "      <td>Z</td>\n",
       "      <td>D</td>\n",
       "      <td>ZA</td>\n",
       "      <td>A</td>\n",
       "      <td>5J</td>\n",
       "      <td>A</td>\n",
       "      <td>TO1</td>\n",
       "      <td>TO1</td>\n",
       "      <td>...</td>\n",
       "      <td>3</td>\n",
       "      <td>USD</td>\n",
       "      <td>6</td>\n",
       "      <td>None</td>\n",
       "      <td>K</td>\n",
       "      <td>S</td>\n",
       "      <td>None</td>\n",
       "      <td>A</td>\n",
       "      <td>F</td>\n",
       "      <td>None</td>\n",
       "    </tr>\n",
       "  </tbody>\n",
       "</table>\n",
       "<p>164102 rows × 26 columns</p>\n",
       "</div>"
      ],
      "text/plain": [
       "       FREQ DER_TYPE DER_INSTR DER_RISK DER_REP_CTY DER_SECTOR_CPY DER_CPC  \\\n",
       "0         A        U         8        D          5J              A      1E   \n",
       "1         A        U         8        D          5J              A      1E   \n",
       "2         A        U         8        D          5J              A      1E   \n",
       "3         A        U         8        D          5J              A      1E   \n",
       "4         A        U         8        D          5J              A      1E   \n",
       "...     ...      ...       ...      ...         ...            ...     ...   \n",
       "164097    A        U         Z        D          US              C      5Z   \n",
       "164098    A        U         Z        D          US              U      1E   \n",
       "164099    A        U         Z        D          US              U      5J   \n",
       "164100    A        U         Z        D          US              U      5Z   \n",
       "164101    A        U         Z        D          ZA              A      5J   \n",
       "\n",
       "       DER_SECTOR_UDL DER_CURR_LEG1 DER_CURR_LEG2  ... DECIMALS UNIT_MEASURE  \\\n",
       "0                   A           AED           TO1  ...        3          USD   \n",
       "1                   A           ARS           TO1  ...        3          USD   \n",
       "2                   A           AUD           TO1  ...        3          USD   \n",
       "3                   A           BGN           TO1  ...        3          USD   \n",
       "4                   A           BHD           TO1  ...        3          USD   \n",
       "...               ...           ...           ...  ...      ...          ...   \n",
       "164097              A           TO1           TO1  ...        3          USD   \n",
       "164098              A           TO1           TO1  ...        3          USD   \n",
       "164099              A           TO1           TO1  ...        3          USD   \n",
       "164100              A           TO1           TO1  ...        3          USD   \n",
       "164101              A           TO1           TO1  ...        3          USD   \n",
       "\n",
       "       UNIT_MULT TIME_FORMAT  AVAILABILITY  COLLECTION  TITLE_TS OBS_STATUS  \\\n",
       "0              6        None             K           S      None          A   \n",
       "1              6        None             K           S      None          A   \n",
       "2              6        None             K           S      None          A   \n",
       "3              6        None             K           S      None          A   \n",
       "4              6        None             K           S      None          A   \n",
       "...          ...         ...           ...         ...       ...        ...   \n",
       "164097         6        None             K           S      None          A   \n",
       "164098         6        None             K           S      None          A   \n",
       "164099         6        None             K           S      None          A   \n",
       "164100         6        None             K           S      None          A   \n",
       "164101         6        None             K           S      None          A   \n",
       "\n",
       "        OBS_CONF OBS_PRE_BREAK  \n",
       "0              F          None  \n",
       "1              F          None  \n",
       "2              F          None  \n",
       "3              F          None  \n",
       "4              F          None  \n",
       "...          ...           ...  \n",
       "164097         F          None  \n",
       "164098         F          None  \n",
       "164099         F          None  \n",
       "164100         F          None  \n",
       "164101         F          None  \n",
       "\n",
       "[164102 rows x 26 columns]"
      ]
     },
     "execution_count": 8,
     "metadata": {},
     "output_type": "execute_result"
    }
   ],
   "source": [
    "conn = sqlite3.connect(pathToDB)\n",
    "df = pd.read_sql('SELECT * from BIS_DER WHERE DER_TYPE = \"U\" and DER_RISK = \"D\";', conn)\n",
    "df"
   ]
  },
  {
   "cell_type": "code",
   "execution_count": 9,
   "metadata": {
    "pycharm": {
     "name": "#%%\n"
    }
   },
   "outputs": [
    {
     "name": "stdout",
     "output_type": "stream",
     "text": [
      "<DataSet  - BIS_DER>\n"
     ]
    }
   ],
   "source": [
    "message = sdmxthon.read_sdmx(urlMetadata)\n",
    "\n",
    "dataset2 = Dataset(message.payload.dsds[\"BIS:BIS_DER(1.0)\"], data=df)\n",
    "print(dataset2)"
   ]
  },
  {
   "cell_type": "code",
   "execution_count": 10,
   "metadata": {
    "pycharm": {
     "name": "#%%\n"
    }
   },
   "outputs": [
    {
     "name": "stdout",
     "output_type": "stream",
     "text": [
      "[]\n"
     ]
    }
   ],
   "source": [
    "errors = dataset2.semantic_validation()\n",
    "\n",
    "print(errors)"
   ]
  },
  {
   "cell_type": "code",
   "execution_count": 11,
   "metadata": {
    "pycharm": {
     "name": "#%%\n"
    }
   },
   "outputs": [
    {
     "name": "stdout",
     "output_type": "stream",
     "text": [
      "[{'Code': 'SS04', 'ErrorLevel': 'CRITICAL', 'Component': 'FREQ', 'Type': 'Dimension', 'Rows': None, 'Message': 'Wrong value Z for dimension FREQ'}]\n"
     ]
    }
   ],
   "source": [
    "dataset2.data['FREQ'] = 'Z'\n",
    "errors = dataset2.semantic_validation()\n",
    "\n",
    "print(errors)"
   ]
  },
  {
   "cell_type": "code",
   "execution_count": 12,
   "metadata": {
    "pycharm": {
     "name": "#%%\n"
    }
   },
   "outputs": [],
   "source": [
    "dataset2.set_dimension_at_observation('TIME_PERIOD')\n",
    "dataset2.to_xml(sdmxthon.MessageTypeEnum.StructureDataSet, pathTestXS)"
   ]
  },
  {
   "cell_type": "markdown",
   "metadata": {},
   "source": [
    "### Metadata navigation"
   ]
  },
  {
   "cell_type": "code",
   "execution_count": 13,
   "metadata": {},
   "outputs": [
    {
     "data": {
      "text/plain": [
       "{'ADJUST_CODED': <Concept - ADJUST_CODED>,\n",
       " 'AVAILABILITY': <Concept - AVAILABILITY>,\n",
       " 'BIS_BLOCK': <Concept - BIS_BLOCK>,\n",
       " 'BIS_UNIT': <Concept - BIS_UNIT>,\n",
       " 'BORROWERS_CTY': <Concept - BORROWERS_CTY>,\n",
       " 'BREAKS': <Concept - BREAKS>,\n",
       " 'CBS_BANK_TYPE': <Concept - CBS_BANK_TYPE>,\n",
       " 'CBS_BASIS': <Concept - CBS_BASIS>,\n",
       " 'CG_DTYPE': <Concept - CG_DTYPE>,\n",
       " 'CIBL_CATEGORY': <Concept - CIBL_CATEGORY>,\n",
       " 'CIBL_TABLE': <Concept - CIBL_TABLE>,\n",
       " 'CIBL_TYPE': <Concept - CIBL_TYPE>,\n",
       " 'COLLECTION': <Concept - COLLECTION>,\n",
       " 'COLLECTION_DETAIL': <Concept - COLLECTION_DETAIL>,\n",
       " 'COMPILING_ORG': <Concept - COMPILING_ORG>,\n",
       " 'COVERAGE': <Concept - COVERAGE>,\n",
       " 'COVERED_AREA': <Concept - COVERED_AREA>,\n",
       " 'CURR_TYPE_BOOK': <Concept - CURR_TYPE_BOOK>,\n",
       " 'DATA_COMP': <Concept - DATA_COMP>,\n",
       " 'DECIMALS': <Concept - DECIMALS>,\n",
       " 'DOC_METHOD': <Concept - DOC_METHOD>,\n",
       " 'DSR_BORROWERS': <Concept - DSR_BORROWERS>,\n",
       " 'EER_BASKET': <Concept - EER_BASKET>,\n",
       " 'EER_TYPE': <Concept - EER_TYPE>,\n",
       " 'FREQ': <Concept - FREQ>,\n",
       " 'IBLN_CATEGORY': <Concept - IBLN_CATEGORY>,\n",
       " 'IBLN_TABLE': <Concept - IBLN_TABLE>,\n",
       " 'IBLN_TYPE': <Concept - IBLN_TYPE>,\n",
       " 'IBLR_CATEGORY': <Concept - IBLR_CATEGORY>,\n",
       " 'IBLR_CURR': <Concept - IBLR_CURR>,\n",
       " 'IBLR_TYPE': <Concept - IBLR_TYPE>,\n",
       " 'ISSUE_COL': <Concept - ISSUE_COL>,\n",
       " 'ISSUE_CUR': <Concept - ISSUE_CUR>,\n",
       " 'ISSUE_CUR_GROUP': <Concept - ISSUE_CUR_GROUP>,\n",
       " 'ISSUE_OR_MAT': <Concept - ISSUE_OR_MAT>,\n",
       " 'ISSUE_RATE': <Concept - ISSUE_RATE>,\n",
       " 'ISSUE_RE_MAT': <Concept - ISSUE_RE_MAT>,\n",
       " 'ISSUE_RISK': <Concept - ISSUE_RISK>,\n",
       " 'ISSUE_TYPE': <Concept - ISSUE_TYPE>,\n",
       " 'ISSUER_BUS_IMM': <Concept - ISSUER_BUS_IMM>,\n",
       " 'ISSUER_BUS_ULT': <Concept - ISSUER_BUS_ULT>,\n",
       " 'ISSUER_NAT': <Concept - ISSUER_NAT>,\n",
       " 'ISSUER_RES': <Concept - ISSUER_RES>,\n",
       " 'L_DENOM': <Concept - L_DENOM>,\n",
       " 'L_INSTR': <Concept - L_INSTR>,\n",
       " 'L_MEASURE': <Concept - L_MEASURE>,\n",
       " 'L_POSITION': <Concept - L_POSITION>,\n",
       " 'L_REP_BANK_TYPE': <Concept - L_REP_BANK_TYPE>,\n",
       " 'L_CURR_TYPE': <Concept - L_CURR_TYPE>,\n",
       " 'L_PARENT_CTY': <Concept - L_PARENT_CTY>,\n",
       " 'L_POS_TYPE': <Concept - L_POS_TYPE>,\n",
       " 'L_REP_CTY': <Concept - L_REP_CTY>,\n",
       " 'L_CP_COUNTRY': <Concept - L_CP_COUNTRY>,\n",
       " 'L_CP_SECTOR': <Concept - L_CP_SECTOR>,\n",
       " 'MARKET': <Concept - MARKET>,\n",
       " 'MEASURE': <Concept - MEASURE>,\n",
       " 'MEASURE_DETAIL': <Concept - MEASURE_DETAIL>,\n",
       " 'META_UPDATE': <Concept - META_UPDATE>,\n",
       " 'OBS_CONF': <Concept - OBS_CONF>,\n",
       " 'OBS_PRE_BREAK': <Concept - OBS_PRE_BREAK>,\n",
       " 'OBS_STATUS': <Concept - OBS_STATUS>,\n",
       " 'OBS_VALUE': <Concept - OBS_VALUE>,\n",
       " 'OD_INSTR': <Concept - OD_INSTR>,\n",
       " 'OD_RISK_CAT': <Concept - OD_RISK_CAT>,\n",
       " 'OD_TYPE': <Concept - OD_TYPE>,\n",
       " 'ORG_VISIBILITY': <Concept - ORG_VISIBILITY>,\n",
       " 'PRICED_UNIT': <Concept - PRICED_UNIT>,\n",
       " 'PUBLICATIONS': <Concept - PUBLICATIONS>,\n",
       " 'REF_AREA': <Concept - REF_AREA>,\n",
       " 'REM_MATURITY': <Concept - REM_MATURITY>,\n",
       " 'REP_CTY': <Concept - REP_CTY>,\n",
       " 'RE_TYPE': <Concept - RE_TYPE>,\n",
       " 'RE_VINTAGE': <Concept - RE_VINTAGE>,\n",
       " 'SOURCE_TYPE': <Concept - SOURCE_TYPE>,\n",
       " 'TC_ADJUST': <Concept - TC_ADJUST>,\n",
       " 'TC_BORROWERS': <Concept - TC_BORROWERS>,\n",
       " 'TC_LENDERS': <Concept - TC_LENDERS>,\n",
       " 'TIME_FORMAT': <Concept - TIME_FORMAT>,\n",
       " 'TIME_PERIOD': <Concept - TIME_PERIOD>,\n",
       " 'TITLE_GRP': <Concept - TITLE_GRP>,\n",
       " 'TITLE_GRP_COMPL': <Concept - TITLE_GRP_COMPL>,\n",
       " 'TITLE_GRP_NAT': <Concept - TITLE_GRP_NAT>,\n",
       " 'TITLE_TS': <Concept - TITLE_TS>,\n",
       " 'UNIT_MEASURE': <Concept - UNIT_MEASURE>,\n",
       " 'UNIT_MULT': <Concept - UNIT_MULT>,\n",
       " 'UNIT_TYPE': <Concept - UNIT_TYPE>,\n",
       " 'VALUE': <Concept - VALUE>,\n",
       " 'VALUATION': <Concept - VALUATION>,\n",
       " 'VIS_CTY': <Concept - VIS_CTY>,\n",
       " 'XD_EXCHANGE': <Concept - XD_EXCHANGE>,\n",
       " 'OD_CPARTY': <Concept - OD_CPARTY>,\n",
       " 'OD_REP_CTY': <Concept - OD_REP_CTY>,\n",
       " 'OD_CURR_MAT_REG': <Concept - OD_CURR_MAT_REG>,\n",
       " 'DER_TYPE': <Concept - DER_TYPE>,\n",
       " 'DER_INSTR': <Concept - DER_INSTR>,\n",
       " 'DER_RISK': <Concept - DER_RISK>,\n",
       " 'DER_REP_CTY': <Concept - DER_REP_CTY>,\n",
       " 'DER_SECTOR_CPY': <Concept - DER_SECTOR_CPY>,\n",
       " 'DER_CPC': <Concept - DER_CPC>,\n",
       " 'DER_SECTOR_UDL': <Concept - DER_SECTOR_UDL>,\n",
       " 'DER_CURR_LEG1': <Concept - DER_CURR_LEG1>,\n",
       " 'DER_CURR_LEG2': <Concept - DER_CURR_LEG2>,\n",
       " 'DER_ISSUE_MAT': <Concept - DER_ISSUE_MAT>,\n",
       " 'DER_RATING': <Concept - DER_RATING>,\n",
       " 'DER_EX_METHOD': <Concept - DER_EX_METHOD>,\n",
       " 'DER_BASIS': <Concept - DER_BASIS>,\n",
       " 'CURR_DENOM': <Concept - CURR_DENOM>,\n",
       " 'LENDERS_SECTOR': <Concept - LENDERS_SECTOR>,\n",
       " 'BORROWERS_SECTOR': <Concept - BORROWERS_SECTOR>,\n",
       " 'CURRENCY': <Concept - CURRENCY>,\n",
       " 'TITLE': <Concept - TITLE>}"
      ]
     },
     "execution_count": 13,
     "metadata": {},
     "output_type": "execute_result"
    }
   ],
   "source": [
    "concept_scheme = message.content['concepts']['BIS:BIS_CONCEPT_SCHEME(1.0)']\n",
    "concept_scheme.items"
   ]
  },
  {
   "cell_type": "code",
   "execution_count": 14,
   "metadata": {},
   "outputs": [
    {
     "data": {
      "text/plain": [
       "{'dimensions': {'FREQ': <Dimension - FREQ>,\n",
       "  'DER_TYPE': <Dimension - DER_TYPE>,\n",
       "  'DER_INSTR': <Dimension - DER_INSTR>,\n",
       "  'DER_RISK': <Dimension - DER_RISK>,\n",
       "  'DER_REP_CTY': <Dimension - DER_REP_CTY>,\n",
       "  'DER_SECTOR_CPY': <Dimension - DER_SECTOR_CPY>,\n",
       "  'DER_CPC': <Dimension - DER_CPC>,\n",
       "  'DER_SECTOR_UDL': <Dimension - DER_SECTOR_UDL>,\n",
       "  'DER_CURR_LEG1': <Dimension - DER_CURR_LEG1>,\n",
       "  'DER_CURR_LEG2': <Dimension - DER_CURR_LEG2>,\n",
       "  'DER_ISSUE_MAT': <Dimension - DER_ISSUE_MAT>,\n",
       "  'DER_RATING': <Dimension - DER_RATING>,\n",
       "  'DER_EX_METHOD': <Dimension - DER_EX_METHOD>,\n",
       "  'DER_BASIS': <Dimension - DER_BASIS>,\n",
       "  'TIME_PERIOD': <TimeDimension - TIME_PERIOD>},\n",
       " 'measure': <PrimaryMeasure - OBS_VALUE>,\n",
       " 'attributes': {'TIME_FORMAT': <Attribute - TIME_FORMAT>,\n",
       "  'OBS_STATUS': <Attribute - OBS_STATUS>,\n",
       "  'AVAILABILITY': <Attribute - AVAILABILITY>,\n",
       "  'COLLECTION': <Attribute - COLLECTION>,\n",
       "  'DECIMALS': <Attribute - DECIMALS>,\n",
       "  'UNIT_MEASURE': <Attribute - UNIT_MEASURE>,\n",
       "  'UNIT_MULT': <Attribute - UNIT_MULT>,\n",
       "  'OBS_CONF': <Attribute - OBS_CONF>,\n",
       "  'OBS_PRE_BREAK': <Attribute - OBS_PRE_BREAK>,\n",
       "  'TITLE_TS': <Attribute - TITLE_TS>},\n",
       " 'groups': <GroupDimensionDescriptor - Sibling>}"
      ]
     },
     "execution_count": 14,
     "metadata": {},
     "output_type": "execute_result"
    }
   ],
   "source": [
    "dsd = message.content['dsds']['BIS:BIS_DER(1.0)']\n",
    "dsd.content"
   ]
  },
  {
   "cell_type": "code",
   "execution_count": 15,
   "metadata": {},
   "outputs": [],
   "source": [
    "freq = dsd.content['dimensions']['FREQ']"
   ]
  },
  {
   "cell_type": "code",
   "execution_count": 16,
   "metadata": {},
   "outputs": [
    {
     "data": {
      "text/plain": [
       "<Concept - FREQ>"
      ]
     },
     "execution_count": 16,
     "metadata": {},
     "output_type": "execute_result"
    }
   ],
   "source": [
    "freq.concept_identity"
   ]
  },
  {
   "cell_type": "code",
   "execution_count": 17,
   "metadata": {},
   "outputs": [
    {
     "data": {
      "text/plain": [
       "<Representation - [<minLength - 1>, <maxLength - 1>] - String>"
      ]
     },
     "execution_count": 17,
     "metadata": {},
     "output_type": "execute_result"
    }
   ],
   "source": [
    "freq.representation"
   ]
  },
  {
   "cell_type": "code",
   "execution_count": 18,
   "metadata": {},
   "outputs": [
    {
     "name": "stdout",
     "output_type": "stream",
     "text": [
      "None\n"
     ]
    }
   ],
   "source": [
    "print(freq.concept_identity.core_representation)"
   ]
  },
  {
   "cell_type": "code",
   "execution_count": 19,
   "metadata": {},
   "outputs": [
    {
     "data": {
      "text/plain": [
       "<Codelist - CL_FREQ>"
      ]
     },
     "execution_count": 19,
     "metadata": {},
     "output_type": "execute_result"
    }
   ],
   "source": [
    "freq.local_representation.codelist"
   ]
  },
  {
   "cell_type": "code",
   "execution_count": 20,
   "metadata": {},
   "outputs": [
    {
     "data": {
      "text/plain": [
       "{'A': <Code - A>,\n",
       " 'B': <Code - B>,\n",
       " 'D': <Code - D>,\n",
       " 'E': <Code - E>,\n",
       " 'H': <Code - H>,\n",
       " 'M': <Code - M>,\n",
       " 'Q': <Code - Q>,\n",
       " 'W': <Code - W>}"
      ]
     },
     "execution_count": 20,
     "metadata": {},
     "output_type": "execute_result"
    }
   ],
   "source": [
    "freq.local_representation.codelist.items"
   ]
  },
  {
   "cell_type": "markdown",
   "metadata": {},
   "source": [
    "### Metadata creation and manipulation"
   ]
  },
  {
   "cell_type": "code",
   "execution_count": 21,
   "metadata": {},
   "outputs": [],
   "source": [
    "name = InternationalString()\n",
    "name.addLocalisedString(LocalisedString('English', 'en', 'NEW_CONCEPT'))\n",
    "concept = Concept('NEW_CONCEPT', name=name)"
   ]
  },
  {
   "cell_type": "code",
   "execution_count": 22,
   "metadata": {},
   "outputs": [
    {
     "data": {
      "text/plain": [
       "{'ADJUST_CODED': <Concept - ADJUST_CODED>,\n",
       " 'AVAILABILITY': <Concept - AVAILABILITY>,\n",
       " 'BIS_BLOCK': <Concept - BIS_BLOCK>,\n",
       " 'BIS_UNIT': <Concept - BIS_UNIT>,\n",
       " 'BORROWERS_CTY': <Concept - BORROWERS_CTY>,\n",
       " 'BREAKS': <Concept - BREAKS>,\n",
       " 'CBS_BANK_TYPE': <Concept - CBS_BANK_TYPE>,\n",
       " 'CBS_BASIS': <Concept - CBS_BASIS>,\n",
       " 'CG_DTYPE': <Concept - CG_DTYPE>,\n",
       " 'CIBL_CATEGORY': <Concept - CIBL_CATEGORY>,\n",
       " 'CIBL_TABLE': <Concept - CIBL_TABLE>,\n",
       " 'CIBL_TYPE': <Concept - CIBL_TYPE>,\n",
       " 'COLLECTION': <Concept - COLLECTION>,\n",
       " 'COLLECTION_DETAIL': <Concept - COLLECTION_DETAIL>,\n",
       " 'COMPILING_ORG': <Concept - COMPILING_ORG>,\n",
       " 'COVERAGE': <Concept - COVERAGE>,\n",
       " 'COVERED_AREA': <Concept - COVERED_AREA>,\n",
       " 'CURR_TYPE_BOOK': <Concept - CURR_TYPE_BOOK>,\n",
       " 'DATA_COMP': <Concept - DATA_COMP>,\n",
       " 'DECIMALS': <Concept - DECIMALS>,\n",
       " 'DOC_METHOD': <Concept - DOC_METHOD>,\n",
       " 'DSR_BORROWERS': <Concept - DSR_BORROWERS>,\n",
       " 'EER_BASKET': <Concept - EER_BASKET>,\n",
       " 'EER_TYPE': <Concept - EER_TYPE>,\n",
       " 'FREQ': <Concept - FREQ>,\n",
       " 'IBLN_CATEGORY': <Concept - IBLN_CATEGORY>,\n",
       " 'IBLN_TABLE': <Concept - IBLN_TABLE>,\n",
       " 'IBLN_TYPE': <Concept - IBLN_TYPE>,\n",
       " 'IBLR_CATEGORY': <Concept - IBLR_CATEGORY>,\n",
       " 'IBLR_CURR': <Concept - IBLR_CURR>,\n",
       " 'IBLR_TYPE': <Concept - IBLR_TYPE>,\n",
       " 'ISSUE_COL': <Concept - ISSUE_COL>,\n",
       " 'ISSUE_CUR': <Concept - ISSUE_CUR>,\n",
       " 'ISSUE_CUR_GROUP': <Concept - ISSUE_CUR_GROUP>,\n",
       " 'ISSUE_OR_MAT': <Concept - ISSUE_OR_MAT>,\n",
       " 'ISSUE_RATE': <Concept - ISSUE_RATE>,\n",
       " 'ISSUE_RE_MAT': <Concept - ISSUE_RE_MAT>,\n",
       " 'ISSUE_RISK': <Concept - ISSUE_RISK>,\n",
       " 'ISSUE_TYPE': <Concept - ISSUE_TYPE>,\n",
       " 'ISSUER_BUS_IMM': <Concept - ISSUER_BUS_IMM>,\n",
       " 'ISSUER_BUS_ULT': <Concept - ISSUER_BUS_ULT>,\n",
       " 'ISSUER_NAT': <Concept - ISSUER_NAT>,\n",
       " 'ISSUER_RES': <Concept - ISSUER_RES>,\n",
       " 'L_DENOM': <Concept - L_DENOM>,\n",
       " 'L_INSTR': <Concept - L_INSTR>,\n",
       " 'L_MEASURE': <Concept - L_MEASURE>,\n",
       " 'L_POSITION': <Concept - L_POSITION>,\n",
       " 'L_REP_BANK_TYPE': <Concept - L_REP_BANK_TYPE>,\n",
       " 'L_CURR_TYPE': <Concept - L_CURR_TYPE>,\n",
       " 'L_PARENT_CTY': <Concept - L_PARENT_CTY>,\n",
       " 'L_POS_TYPE': <Concept - L_POS_TYPE>,\n",
       " 'L_REP_CTY': <Concept - L_REP_CTY>,\n",
       " 'L_CP_COUNTRY': <Concept - L_CP_COUNTRY>,\n",
       " 'L_CP_SECTOR': <Concept - L_CP_SECTOR>,\n",
       " 'MARKET': <Concept - MARKET>,\n",
       " 'MEASURE': <Concept - MEASURE>,\n",
       " 'MEASURE_DETAIL': <Concept - MEASURE_DETAIL>,\n",
       " 'META_UPDATE': <Concept - META_UPDATE>,\n",
       " 'OBS_CONF': <Concept - OBS_CONF>,\n",
       " 'OBS_PRE_BREAK': <Concept - OBS_PRE_BREAK>,\n",
       " 'OBS_STATUS': <Concept - OBS_STATUS>,\n",
       " 'OBS_VALUE': <Concept - OBS_VALUE>,\n",
       " 'OD_INSTR': <Concept - OD_INSTR>,\n",
       " 'OD_RISK_CAT': <Concept - OD_RISK_CAT>,\n",
       " 'OD_TYPE': <Concept - OD_TYPE>,\n",
       " 'ORG_VISIBILITY': <Concept - ORG_VISIBILITY>,\n",
       " 'PRICED_UNIT': <Concept - PRICED_UNIT>,\n",
       " 'PUBLICATIONS': <Concept - PUBLICATIONS>,\n",
       " 'REF_AREA': <Concept - REF_AREA>,\n",
       " 'REM_MATURITY': <Concept - REM_MATURITY>,\n",
       " 'REP_CTY': <Concept - REP_CTY>,\n",
       " 'RE_TYPE': <Concept - RE_TYPE>,\n",
       " 'RE_VINTAGE': <Concept - RE_VINTAGE>,\n",
       " 'SOURCE_TYPE': <Concept - SOURCE_TYPE>,\n",
       " 'TC_ADJUST': <Concept - TC_ADJUST>,\n",
       " 'TC_BORROWERS': <Concept - TC_BORROWERS>,\n",
       " 'TC_LENDERS': <Concept - TC_LENDERS>,\n",
       " 'TIME_FORMAT': <Concept - TIME_FORMAT>,\n",
       " 'TIME_PERIOD': <Concept - TIME_PERIOD>,\n",
       " 'TITLE_GRP': <Concept - TITLE_GRP>,\n",
       " 'TITLE_GRP_COMPL': <Concept - TITLE_GRP_COMPL>,\n",
       " 'TITLE_GRP_NAT': <Concept - TITLE_GRP_NAT>,\n",
       " 'TITLE_TS': <Concept - TITLE_TS>,\n",
       " 'UNIT_MEASURE': <Concept - UNIT_MEASURE>,\n",
       " 'UNIT_MULT': <Concept - UNIT_MULT>,\n",
       " 'UNIT_TYPE': <Concept - UNIT_TYPE>,\n",
       " 'VALUE': <Concept - VALUE>,\n",
       " 'VALUATION': <Concept - VALUATION>,\n",
       " 'VIS_CTY': <Concept - VIS_CTY>,\n",
       " 'XD_EXCHANGE': <Concept - XD_EXCHANGE>,\n",
       " 'OD_CPARTY': <Concept - OD_CPARTY>,\n",
       " 'OD_REP_CTY': <Concept - OD_REP_CTY>,\n",
       " 'OD_CURR_MAT_REG': <Concept - OD_CURR_MAT_REG>,\n",
       " 'DER_TYPE': <Concept - DER_TYPE>,\n",
       " 'DER_INSTR': <Concept - DER_INSTR>,\n",
       " 'DER_RISK': <Concept - DER_RISK>,\n",
       " 'DER_REP_CTY': <Concept - DER_REP_CTY>,\n",
       " 'DER_SECTOR_CPY': <Concept - DER_SECTOR_CPY>,\n",
       " 'DER_CPC': <Concept - DER_CPC>,\n",
       " 'DER_SECTOR_UDL': <Concept - DER_SECTOR_UDL>,\n",
       " 'DER_CURR_LEG1': <Concept - DER_CURR_LEG1>,\n",
       " 'DER_CURR_LEG2': <Concept - DER_CURR_LEG2>,\n",
       " 'DER_ISSUE_MAT': <Concept - DER_ISSUE_MAT>,\n",
       " 'DER_RATING': <Concept - DER_RATING>,\n",
       " 'DER_EX_METHOD': <Concept - DER_EX_METHOD>,\n",
       " 'DER_BASIS': <Concept - DER_BASIS>,\n",
       " 'CURR_DENOM': <Concept - CURR_DENOM>,\n",
       " 'LENDERS_SECTOR': <Concept - LENDERS_SECTOR>,\n",
       " 'BORROWERS_SECTOR': <Concept - BORROWERS_SECTOR>,\n",
       " 'CURRENCY': <Concept - CURRENCY>,\n",
       " 'TITLE': <Concept - TITLE>,\n",
       " 'NEW_CONCEPT': <Concept - NEW_CONCEPT>}"
      ]
     },
     "execution_count": 22,
     "metadata": {},
     "output_type": "execute_result"
    }
   ],
   "source": [
    "concept_scheme.append(concept)\n",
    "concept_scheme.items"
   ]
  },
  {
   "cell_type": "code",
   "execution_count": 23,
   "metadata": {},
   "outputs": [],
   "source": [
    "dimension = Dimension('NEW_DIMENSION', position=16)\n",
    "dimension.concept_identity = concept"
   ]
  },
  {
   "cell_type": "code",
   "execution_count": 24,
   "metadata": {},
   "outputs": [
    {
     "data": {
      "text/plain": [
       "{'dimensions': {'FREQ': <Dimension - FREQ>,\n",
       "  'DER_TYPE': <Dimension - DER_TYPE>,\n",
       "  'DER_INSTR': <Dimension - DER_INSTR>,\n",
       "  'DER_RISK': <Dimension - DER_RISK>,\n",
       "  'DER_REP_CTY': <Dimension - DER_REP_CTY>,\n",
       "  'DER_SECTOR_CPY': <Dimension - DER_SECTOR_CPY>,\n",
       "  'DER_CPC': <Dimension - DER_CPC>,\n",
       "  'DER_SECTOR_UDL': <Dimension - DER_SECTOR_UDL>,\n",
       "  'DER_CURR_LEG1': <Dimension - DER_CURR_LEG1>,\n",
       "  'DER_CURR_LEG2': <Dimension - DER_CURR_LEG2>,\n",
       "  'DER_ISSUE_MAT': <Dimension - DER_ISSUE_MAT>,\n",
       "  'DER_RATING': <Dimension - DER_RATING>,\n",
       "  'DER_EX_METHOD': <Dimension - DER_EX_METHOD>,\n",
       "  'DER_BASIS': <Dimension - DER_BASIS>,\n",
       "  'TIME_PERIOD': <TimeDimension - TIME_PERIOD>,\n",
       "  'NEW_DIMENSION': <Dimension - NEW_DIMENSION>},\n",
       " 'measure': <PrimaryMeasure - OBS_VALUE>,\n",
       " 'attributes': {'TIME_FORMAT': <Attribute - TIME_FORMAT>,\n",
       "  'OBS_STATUS': <Attribute - OBS_STATUS>,\n",
       "  'AVAILABILITY': <Attribute - AVAILABILITY>,\n",
       "  'COLLECTION': <Attribute - COLLECTION>,\n",
       "  'DECIMALS': <Attribute - DECIMALS>,\n",
       "  'UNIT_MEASURE': <Attribute - UNIT_MEASURE>,\n",
       "  'UNIT_MULT': <Attribute - UNIT_MULT>,\n",
       "  'OBS_CONF': <Attribute - OBS_CONF>,\n",
       "  'OBS_PRE_BREAK': <Attribute - OBS_PRE_BREAK>,\n",
       "  'TITLE_TS': <Attribute - TITLE_TS>},\n",
       " 'groups': <GroupDimensionDescriptor - Sibling>}"
      ]
     },
     "execution_count": 24,
     "metadata": {},
     "output_type": "execute_result"
    }
   ],
   "source": [
    "dsd.dimension_descriptor.add_component(dimension)\n",
    "dsd.content"
   ]
  },
  {
   "cell_type": "code",
   "execution_count": 25,
   "metadata": {},
   "outputs": [],
   "source": [
    "message.to_xml(pathTestMetadata)"
   ]
  }
 ],
 "metadata": {
  "kernelspec": {
   "display_name": "Python 3",
   "language": "python",
   "name": "python3"
  },
  "language_info": {
   "codemirror_mode": {
    "name": "ipython",
    "version": 3
   },
   "file_extension": ".py",
   "mimetype": "text/x-python",
   "name": "python",
   "nbconvert_exporter": "python",
   "pygments_lexer": "ipython3",
   "version": "3.7.6"
  }
 },
 "nbformat": 4,
 "nbformat_minor": 4
}
