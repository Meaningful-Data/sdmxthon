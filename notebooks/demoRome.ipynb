{
 "cells": [
  {
   "metadata": {},
   "cell_type": "markdown",
   "source": "# PySDMX demo (using sdmxthon internal methods)",
   "id": "68fc486e6b25a3c5"
  },
  {
   "metadata": {},
   "cell_type": "markdown",
   "source": [
    "In the PySDMX library, even though some methods have been implemented, we are refactoring the internal functions to ensure we can support several SDMX formats.\n",
    "\n",
    "The notebook displayed here uses the sdmxthon library (whose code has been broadly used in the development of pysdmx parsers and writers for SDMX-ML 2.1, as well as Message class and DataSet class) to showcase the functionalities related to SDMX-ML 2.1.\n",
    "\n",
    "Some methods may slightly change, but overall the code used here will be similar in PySDMX. A comprehensive example will be uploaded to the documentation when this functionalities are implemented.\n",
    "\n",
    "Main Links:\n",
    "- [PyPi]()\n",
    "- [Documentation]()\n",
    "- [Github - Source Code and Bug Tracker](https://github.com/bis-med-it/pysdmx)"
   ],
   "id": "311dede283bcd06c"
  },
  {
   "metadata": {},
   "cell_type": "markdown",
   "source": "## Overview of SDMXthon code to be used in PySDMX",
   "id": "81e4e72af9480c3f"
  },
  {
   "metadata": {},
   "cell_type": "markdown",
   "source": [
    "SDMXthon is the code base for many functionalities on PySDMX, including the Data Management. It uses Message class as a collection of SDMX objects referring to data or metadata. \n",
    "\n",
    "The data is based on Pandas Dataframe. PySDMX may support other libraries like Polars in the future.\n",
    "\n",
    "The metadata is based on a set of classes to handle the SDMX Information Model, which are already included in PySDMX."
   ],
   "id": "5521ffc33531f6a"
  },
  {
   "metadata": {},
   "cell_type": "markdown",
   "source": "## SDMX IM Structures management",
   "id": "fde7350d70e8dc8c"
  },
  {
   "metadata": {},
   "cell_type": "markdown",
   "source": "PySDMX includes several classes to manage structures, placed in the model package and based on the [SDMX IM](https://sdmx.org/wp-content/uploads/SDMX_2-1-1_SECTION_2_InformationModel_201108.pdf). Here we will use similar classes from the SDMXthon library which already includes the functionality to read and write on SDMX-ML 2.1.",
   "id": "e8741f0ad177ce31"
  },
  {
   "metadata": {},
   "cell_type": "markdown",
   "source": "### Item Scheme classes",
   "id": "b4f79109dca8e4dd"
  },
  {
   "metadata": {
    "ExecuteTime": {
     "end_time": "2024-06-10T10:03:36.565289Z",
     "start_time": "2024-06-10T10:03:36.549225Z"
    }
   },
   "cell_type": "code",
   "source": [
    "from sdmxthon.model.itemScheme import Agency, Codelist, ConceptScheme\n",
    "\n",
    "cl = Codelist(\"TEST_CL\", version='1.0', maintainer=Agency('TEST'))\n",
    "cl\n"
   ],
   "id": "e657e20597261f33",
   "outputs": [
    {
     "data": {
      "text/plain": [
       "<Codelist - TEST_CL>"
      ]
     },
     "execution_count": 4,
     "metadata": {},
     "output_type": "execute_result"
    }
   ],
   "execution_count": 4
  },
  {
   "metadata": {
    "ExecuteTime": {
     "end_time": "2024-06-10T10:03:36.628679Z",
     "start_time": "2024-06-10T10:03:36.616719Z"
    }
   },
   "cell_type": "code",
   "source": [
    "cs = ConceptScheme('TEST_CS', version='1.0', maintainer=Agency('TEST'))\n",
    "cs"
   ],
   "id": "c6fe991b027a69e8",
   "outputs": [
    {
     "data": {
      "text/plain": [
       "<ConceptScheme - TEST:TEST_CS(1.0)>"
      ]
     },
     "execution_count": 5,
     "metadata": {},
     "output_type": "execute_result"
    }
   ],
   "execution_count": 5
  },
  {
   "metadata": {},
   "cell_type": "markdown",
   "source": "### Data Structure Definition and DataFlow",
   "id": "3ed37eacc16fed1f"
  },
  {
   "metadata": {
    "ExecuteTime": {
     "end_time": "2024-06-10T10:03:36.655107Z",
     "start_time": "2024-06-10T10:03:36.632517Z"
    }
   },
   "cell_type": "code",
   "source": [
    "from sdmxthon.model.definitions import DataStructureDefinition, DataFlowDefinition\n",
    "\n",
    "dsd = DataStructureDefinition('TEST_DSD', version='1.0', maintainer=Agency('TEST'))\n",
    "dsd"
   ],
   "id": "80245ec5d5359ce9",
   "outputs": [
    {
     "data": {
      "text/plain": [
       "<DataStructureDefinition  - TEST:TEST_DSD(1.0)>"
      ]
     },
     "execution_count": 6,
     "metadata": {},
     "output_type": "execute_result"
    }
   ],
   "execution_count": 6
  },
  {
   "metadata": {
    "ExecuteTime": {
     "end_time": "2024-06-10T10:03:36.670884Z",
     "start_time": "2024-06-10T10:03:36.656127Z"
    }
   },
   "cell_type": "code",
   "source": [
    "dfd = DataFlowDefinition('TEST_DF', version='1.0', maintainer=Agency('TEST'))\n",
    "dfd"
   ],
   "id": "91b16a813c6bf930",
   "outputs": [
    {
     "data": {
      "text/plain": [
       "<DataFlowDefinition - TEST:TEST_DF(1.0)>"
      ]
     },
     "execution_count": 7,
     "metadata": {},
     "output_type": "execute_result"
    }
   ],
   "execution_count": 7
  },
  {
   "metadata": {},
   "cell_type": "markdown",
   "source": "# The Message class",
   "id": "2414d0fe217f0788"
  },
  {
   "metadata": {},
   "cell_type": "markdown",
   "source": "The message class allows to include all different SDMX objects into a simple class for reading, writing and validation purposes. It is based on the SDMX Message XML object from SDMX-ML format.",
   "id": "ef14a959414a4fbe"
  },
  {
   "metadata": {
    "ExecuteTime": {
     "end_time": "2024-06-10T10:03:36.705551Z",
     "start_time": "2024-06-10T10:03:36.691533Z"
    }
   },
   "cell_type": "code",
   "source": [
    "from sdmxthon.utils.parsing_words import CODELISTS, CONCEPTS, DATAFLOWS, DSDS\n",
    "from sdmxthon import Message, MessageTypeEnum\n",
    "\n",
    "\n",
    "\n",
    "payload = {\n",
    "    CODELISTS: {cl.unique_id: cl},\n",
    "    CONCEPTS: {cs.unique_id: cs},\n",
    "    DSDS: {dsd.unique_id: dsd}\n",
    "}\n",
    "\n",
    "type_ = MessageTypeEnum.Metadata\n",
    "\n",
    "message = Message(type_, payload)\n",
    "message.content"
   ],
   "id": "65a727d74ff9cabd",
   "outputs": [
    {
     "data": {
      "text/plain": [
       "{'Codelists': {'TEST:TEST_CL(1.0)': <Codelist - TEST_CL>},\n",
       " 'Concepts': {'TEST:TEST_CS(1.0)': <ConceptScheme - TEST:TEST_CS(1.0)>},\n",
       " 'DataStructures': {'TEST:TEST_DSD(1.0)': <DataStructureDefinition  - TEST:TEST_DSD(1.0)>}}"
      ]
     },
     "execution_count": 8,
     "metadata": {},
     "output_type": "execute_result"
    }
   ],
   "execution_count": 8
  },
  {
   "metadata": {},
   "cell_type": "markdown",
   "source": "# Reading SDMX",
   "id": "785efd934846a19d"
  },
  {
   "metadata": {},
   "cell_type": "markdown",
   "source": [
    "PySDMX will support several methods to read from SDMX APIs (api package) or files (io package), enhancing the usability of the library and its functionalities. Still, this functionality is a work in progress, so we will use as demo only the method read_sdmx, which will be included in PySDMX.\n",
    "\n",
    "In this example, we are reading an SDMX-ML 2.1 Structures file and validating it using the XSD schemas. The output will be the Message class, with all the included SDMX objects parsed.\n",
    "\n",
    "[Link to example used](https://fmr.meaningfuldata.eu/sdmx/v2/structure/datastructure/BIS/BIS_DER/+/?format=sdmx-2.1&prettyPrint=true)\n",
    "\n",
    "[Link to FMR DSD]()"
   ],
   "id": "8c66bd152a95a854"
  },
  {
   "metadata": {
    "ExecuteTime": {
     "end_time": "2024-06-10T10:10:35.601383Z",
     "start_time": "2024-06-10T10:10:35.359253Z"
    }
   },
   "cell_type": "code",
   "source": [
    "from sdmxthon import read_sdmx\n",
    "\n",
    "url = 'https://fmr.meaningfuldata.eu/sdmx/v2/structure/datastructure/BIS/BIS_DER/+/?format=sdmx-2.1&prettyPrint=true'\n",
    "\n",
    "message: Message = read_sdmx(url, validate=True)\n",
    "message.content['DataStructures']"
   ],
   "id": "471f413c9fa448cb",
   "outputs": [
    {
     "ename": "ConnectionError",
     "evalue": "Invalid URL. No response from server",
     "output_type": "error",
     "traceback": [
      "\u001B[1;31m---------------------------------------------------------------------------\u001B[0m",
      "\u001B[1;31mgaierror\u001B[0m                                  Traceback (most recent call last)",
      "File \u001B[1;32m~\\.virtualenvs\\sdmxthon-KUtw-rBx\\lib\\site-packages\\urllib3\\connection.py:198\u001B[0m, in \u001B[0;36mHTTPConnection._new_conn\u001B[1;34m(self)\u001B[0m\n\u001B[0;32m    197\u001B[0m \u001B[38;5;28;01mtry\u001B[39;00m:\n\u001B[1;32m--> 198\u001B[0m     sock \u001B[38;5;241m=\u001B[39m \u001B[43mconnection\u001B[49m\u001B[38;5;241;43m.\u001B[39;49m\u001B[43mcreate_connection\u001B[49m\u001B[43m(\u001B[49m\n\u001B[0;32m    199\u001B[0m \u001B[43m        \u001B[49m\u001B[43m(\u001B[49m\u001B[38;5;28;43mself\u001B[39;49m\u001B[38;5;241;43m.\u001B[39;49m\u001B[43m_dns_host\u001B[49m\u001B[43m,\u001B[49m\u001B[43m \u001B[49m\u001B[38;5;28;43mself\u001B[39;49m\u001B[38;5;241;43m.\u001B[39;49m\u001B[43mport\u001B[49m\u001B[43m)\u001B[49m\u001B[43m,\u001B[49m\n\u001B[0;32m    200\u001B[0m \u001B[43m        \u001B[49m\u001B[38;5;28;43mself\u001B[39;49m\u001B[38;5;241;43m.\u001B[39;49m\u001B[43mtimeout\u001B[49m\u001B[43m,\u001B[49m\n\u001B[0;32m    201\u001B[0m \u001B[43m        \u001B[49m\u001B[43msource_address\u001B[49m\u001B[38;5;241;43m=\u001B[39;49m\u001B[38;5;28;43mself\u001B[39;49m\u001B[38;5;241;43m.\u001B[39;49m\u001B[43msource_address\u001B[49m\u001B[43m,\u001B[49m\n\u001B[0;32m    202\u001B[0m \u001B[43m        \u001B[49m\u001B[43msocket_options\u001B[49m\u001B[38;5;241;43m=\u001B[39;49m\u001B[38;5;28;43mself\u001B[39;49m\u001B[38;5;241;43m.\u001B[39;49m\u001B[43msocket_options\u001B[49m\u001B[43m,\u001B[49m\n\u001B[0;32m    203\u001B[0m \u001B[43m    \u001B[49m\u001B[43m)\u001B[49m\n\u001B[0;32m    204\u001B[0m \u001B[38;5;28;01mexcept\u001B[39;00m socket\u001B[38;5;241m.\u001B[39mgaierror \u001B[38;5;28;01mas\u001B[39;00m e:\n",
      "File \u001B[1;32m~\\.virtualenvs\\sdmxthon-KUtw-rBx\\lib\\site-packages\\urllib3\\util\\connection.py:60\u001B[0m, in \u001B[0;36mcreate_connection\u001B[1;34m(address, timeout, source_address, socket_options)\u001B[0m\n\u001B[0;32m     58\u001B[0m     \u001B[38;5;28;01mraise\u001B[39;00m LocationParseError(\u001B[38;5;124mf\u001B[39m\u001B[38;5;124m\"\u001B[39m\u001B[38;5;124m'\u001B[39m\u001B[38;5;132;01m{\u001B[39;00mhost\u001B[38;5;132;01m}\u001B[39;00m\u001B[38;5;124m'\u001B[39m\u001B[38;5;124m, label empty or too long\u001B[39m\u001B[38;5;124m\"\u001B[39m) \u001B[38;5;28;01mfrom\u001B[39;00m \u001B[38;5;28;01mNone\u001B[39;00m\n\u001B[1;32m---> 60\u001B[0m \u001B[38;5;28;01mfor\u001B[39;00m res \u001B[38;5;129;01min\u001B[39;00m \u001B[43msocket\u001B[49m\u001B[38;5;241;43m.\u001B[39;49m\u001B[43mgetaddrinfo\u001B[49m\u001B[43m(\u001B[49m\u001B[43mhost\u001B[49m\u001B[43m,\u001B[49m\u001B[43m \u001B[49m\u001B[43mport\u001B[49m\u001B[43m,\u001B[49m\u001B[43m \u001B[49m\u001B[43mfamily\u001B[49m\u001B[43m,\u001B[49m\u001B[43m \u001B[49m\u001B[43msocket\u001B[49m\u001B[38;5;241;43m.\u001B[39;49m\u001B[43mSOCK_STREAM\u001B[49m\u001B[43m)\u001B[49m:\n\u001B[0;32m     61\u001B[0m     af, socktype, proto, canonname, sa \u001B[38;5;241m=\u001B[39m res\n",
      "File \u001B[1;32mc:\\program files\\python38\\lib\\socket.py:918\u001B[0m, in \u001B[0;36mgetaddrinfo\u001B[1;34m(host, port, family, type, proto, flags)\u001B[0m\n\u001B[0;32m    917\u001B[0m addrlist \u001B[38;5;241m=\u001B[39m []\n\u001B[1;32m--> 918\u001B[0m \u001B[38;5;28;01mfor\u001B[39;00m res \u001B[38;5;129;01min\u001B[39;00m \u001B[43m_socket\u001B[49m\u001B[38;5;241;43m.\u001B[39;49m\u001B[43mgetaddrinfo\u001B[49m\u001B[43m(\u001B[49m\u001B[43mhost\u001B[49m\u001B[43m,\u001B[49m\u001B[43m \u001B[49m\u001B[43mport\u001B[49m\u001B[43m,\u001B[49m\u001B[43m \u001B[49m\u001B[43mfamily\u001B[49m\u001B[43m,\u001B[49m\u001B[43m \u001B[49m\u001B[38;5;28;43mtype\u001B[39;49m\u001B[43m,\u001B[49m\u001B[43m \u001B[49m\u001B[43mproto\u001B[49m\u001B[43m,\u001B[49m\u001B[43m \u001B[49m\u001B[43mflags\u001B[49m\u001B[43m)\u001B[49m:\n\u001B[0;32m    919\u001B[0m     af, socktype, proto, canonname, sa \u001B[38;5;241m=\u001B[39m res\n",
      "\u001B[1;31mgaierror\u001B[0m: [Errno 11001] getaddrinfo failed",
      "\nThe above exception was the direct cause of the following exception:\n",
      "\u001B[1;31mNameResolutionError\u001B[0m                       Traceback (most recent call last)",
      "File \u001B[1;32m~\\.virtualenvs\\sdmxthon-KUtw-rBx\\lib\\site-packages\\urllib3\\connectionpool.py:793\u001B[0m, in \u001B[0;36mHTTPConnectionPool.urlopen\u001B[1;34m(self, method, url, body, headers, retries, redirect, assert_same_host, timeout, pool_timeout, release_conn, chunked, body_pos, preload_content, decode_content, **response_kw)\u001B[0m\n\u001B[0;32m    792\u001B[0m \u001B[38;5;66;03m# Make the request on the HTTPConnection object\u001B[39;00m\n\u001B[1;32m--> 793\u001B[0m response \u001B[38;5;241m=\u001B[39m \u001B[38;5;28;43mself\u001B[39;49m\u001B[38;5;241;43m.\u001B[39;49m\u001B[43m_make_request\u001B[49m\u001B[43m(\u001B[49m\n\u001B[0;32m    794\u001B[0m \u001B[43m    \u001B[49m\u001B[43mconn\u001B[49m\u001B[43m,\u001B[49m\n\u001B[0;32m    795\u001B[0m \u001B[43m    \u001B[49m\u001B[43mmethod\u001B[49m\u001B[43m,\u001B[49m\n\u001B[0;32m    796\u001B[0m \u001B[43m    \u001B[49m\u001B[43murl\u001B[49m\u001B[43m,\u001B[49m\n\u001B[0;32m    797\u001B[0m \u001B[43m    \u001B[49m\u001B[43mtimeout\u001B[49m\u001B[38;5;241;43m=\u001B[39;49m\u001B[43mtimeout_obj\u001B[49m\u001B[43m,\u001B[49m\n\u001B[0;32m    798\u001B[0m \u001B[43m    \u001B[49m\u001B[43mbody\u001B[49m\u001B[38;5;241;43m=\u001B[39;49m\u001B[43mbody\u001B[49m\u001B[43m,\u001B[49m\n\u001B[0;32m    799\u001B[0m \u001B[43m    \u001B[49m\u001B[43mheaders\u001B[49m\u001B[38;5;241;43m=\u001B[39;49m\u001B[43mheaders\u001B[49m\u001B[43m,\u001B[49m\n\u001B[0;32m    800\u001B[0m \u001B[43m    \u001B[49m\u001B[43mchunked\u001B[49m\u001B[38;5;241;43m=\u001B[39;49m\u001B[43mchunked\u001B[49m\u001B[43m,\u001B[49m\n\u001B[0;32m    801\u001B[0m \u001B[43m    \u001B[49m\u001B[43mretries\u001B[49m\u001B[38;5;241;43m=\u001B[39;49m\u001B[43mretries\u001B[49m\u001B[43m,\u001B[49m\n\u001B[0;32m    802\u001B[0m \u001B[43m    \u001B[49m\u001B[43mresponse_conn\u001B[49m\u001B[38;5;241;43m=\u001B[39;49m\u001B[43mresponse_conn\u001B[49m\u001B[43m,\u001B[49m\n\u001B[0;32m    803\u001B[0m \u001B[43m    \u001B[49m\u001B[43mpreload_content\u001B[49m\u001B[38;5;241;43m=\u001B[39;49m\u001B[43mpreload_content\u001B[49m\u001B[43m,\u001B[49m\n\u001B[0;32m    804\u001B[0m \u001B[43m    \u001B[49m\u001B[43mdecode_content\u001B[49m\u001B[38;5;241;43m=\u001B[39;49m\u001B[43mdecode_content\u001B[49m\u001B[43m,\u001B[49m\n\u001B[0;32m    805\u001B[0m \u001B[43m    \u001B[49m\u001B[38;5;241;43m*\u001B[39;49m\u001B[38;5;241;43m*\u001B[39;49m\u001B[43mresponse_kw\u001B[49m\u001B[43m,\u001B[49m\n\u001B[0;32m    806\u001B[0m \u001B[43m\u001B[49m\u001B[43m)\u001B[49m\n\u001B[0;32m    808\u001B[0m \u001B[38;5;66;03m# Everything went great!\u001B[39;00m\n",
      "File \u001B[1;32m~\\.virtualenvs\\sdmxthon-KUtw-rBx\\lib\\site-packages\\urllib3\\connectionpool.py:491\u001B[0m, in \u001B[0;36mHTTPConnectionPool._make_request\u001B[1;34m(self, conn, method, url, body, headers, retries, timeout, chunked, response_conn, preload_content, decode_content, enforce_content_length)\u001B[0m\n\u001B[0;32m    490\u001B[0m         new_e \u001B[38;5;241m=\u001B[39m _wrap_proxy_error(new_e, conn\u001B[38;5;241m.\u001B[39mproxy\u001B[38;5;241m.\u001B[39mscheme)\n\u001B[1;32m--> 491\u001B[0m     \u001B[38;5;28;01mraise\u001B[39;00m new_e\n\u001B[0;32m    493\u001B[0m \u001B[38;5;66;03m# conn.request() calls http.client.*.request, not the method in\u001B[39;00m\n\u001B[0;32m    494\u001B[0m \u001B[38;5;66;03m# urllib3.request. It also calls makefile (recv) on the socket.\u001B[39;00m\n",
      "File \u001B[1;32m~\\.virtualenvs\\sdmxthon-KUtw-rBx\\lib\\site-packages\\urllib3\\connectionpool.py:467\u001B[0m, in \u001B[0;36mHTTPConnectionPool._make_request\u001B[1;34m(self, conn, method, url, body, headers, retries, timeout, chunked, response_conn, preload_content, decode_content, enforce_content_length)\u001B[0m\n\u001B[0;32m    466\u001B[0m \u001B[38;5;28;01mtry\u001B[39;00m:\n\u001B[1;32m--> 467\u001B[0m     \u001B[38;5;28;43mself\u001B[39;49m\u001B[38;5;241;43m.\u001B[39;49m\u001B[43m_validate_conn\u001B[49m\u001B[43m(\u001B[49m\u001B[43mconn\u001B[49m\u001B[43m)\u001B[49m\n\u001B[0;32m    468\u001B[0m \u001B[38;5;28;01mexcept\u001B[39;00m (SocketTimeout, BaseSSLError) \u001B[38;5;28;01mas\u001B[39;00m e:\n",
      "File \u001B[1;32m~\\.virtualenvs\\sdmxthon-KUtw-rBx\\lib\\site-packages\\urllib3\\connectionpool.py:1099\u001B[0m, in \u001B[0;36mHTTPSConnectionPool._validate_conn\u001B[1;34m(self, conn)\u001B[0m\n\u001B[0;32m   1098\u001B[0m \u001B[38;5;28;01mif\u001B[39;00m conn\u001B[38;5;241m.\u001B[39mis_closed:\n\u001B[1;32m-> 1099\u001B[0m     \u001B[43mconn\u001B[49m\u001B[38;5;241;43m.\u001B[39;49m\u001B[43mconnect\u001B[49m\u001B[43m(\u001B[49m\u001B[43m)\u001B[49m\n\u001B[0;32m   1101\u001B[0m \u001B[38;5;66;03m# TODO revise this, see https://github.com/urllib3/urllib3/issues/2791\u001B[39;00m\n",
      "File \u001B[1;32m~\\.virtualenvs\\sdmxthon-KUtw-rBx\\lib\\site-packages\\urllib3\\connection.py:616\u001B[0m, in \u001B[0;36mHTTPSConnection.connect\u001B[1;34m(self)\u001B[0m\n\u001B[0;32m    615\u001B[0m sock: socket\u001B[38;5;241m.\u001B[39msocket \u001B[38;5;241m|\u001B[39m ssl\u001B[38;5;241m.\u001B[39mSSLSocket\n\u001B[1;32m--> 616\u001B[0m \u001B[38;5;28mself\u001B[39m\u001B[38;5;241m.\u001B[39msock \u001B[38;5;241m=\u001B[39m sock \u001B[38;5;241m=\u001B[39m \u001B[38;5;28;43mself\u001B[39;49m\u001B[38;5;241;43m.\u001B[39;49m\u001B[43m_new_conn\u001B[49m\u001B[43m(\u001B[49m\u001B[43m)\u001B[49m\n\u001B[0;32m    617\u001B[0m server_hostname: \u001B[38;5;28mstr\u001B[39m \u001B[38;5;241m=\u001B[39m \u001B[38;5;28mself\u001B[39m\u001B[38;5;241m.\u001B[39mhost\n",
      "File \u001B[1;32m~\\.virtualenvs\\sdmxthon-KUtw-rBx\\lib\\site-packages\\urllib3\\connection.py:205\u001B[0m, in \u001B[0;36mHTTPConnection._new_conn\u001B[1;34m(self)\u001B[0m\n\u001B[0;32m    204\u001B[0m \u001B[38;5;28;01mexcept\u001B[39;00m socket\u001B[38;5;241m.\u001B[39mgaierror \u001B[38;5;28;01mas\u001B[39;00m e:\n\u001B[1;32m--> 205\u001B[0m     \u001B[38;5;28;01mraise\u001B[39;00m NameResolutionError(\u001B[38;5;28mself\u001B[39m\u001B[38;5;241m.\u001B[39mhost, \u001B[38;5;28mself\u001B[39m, e) \u001B[38;5;28;01mfrom\u001B[39;00m \u001B[38;5;21;01me\u001B[39;00m\n\u001B[0;32m    206\u001B[0m \u001B[38;5;28;01mexcept\u001B[39;00m SocketTimeout \u001B[38;5;28;01mas\u001B[39;00m e:\n",
      "\u001B[1;31mNameResolutionError\u001B[0m: <urllib3.connection.HTTPSConnection object at 0x000001ABABF4AA90>: Failed to resolve 'fmr.meaningfuldata.eu' ([Errno 11001] getaddrinfo failed)",
      "\nThe above exception was the direct cause of the following exception:\n",
      "\u001B[1;31mMaxRetryError\u001B[0m                             Traceback (most recent call last)",
      "File \u001B[1;32m~\\.virtualenvs\\sdmxthon-KUtw-rBx\\lib\\site-packages\\requests\\adapters.py:486\u001B[0m, in \u001B[0;36mHTTPAdapter.send\u001B[1;34m(self, request, stream, timeout, verify, cert, proxies)\u001B[0m\n\u001B[0;32m    485\u001B[0m \u001B[38;5;28;01mtry\u001B[39;00m:\n\u001B[1;32m--> 486\u001B[0m     resp \u001B[38;5;241m=\u001B[39m \u001B[43mconn\u001B[49m\u001B[38;5;241;43m.\u001B[39;49m\u001B[43murlopen\u001B[49m\u001B[43m(\u001B[49m\n\u001B[0;32m    487\u001B[0m \u001B[43m        \u001B[49m\u001B[43mmethod\u001B[49m\u001B[38;5;241;43m=\u001B[39;49m\u001B[43mrequest\u001B[49m\u001B[38;5;241;43m.\u001B[39;49m\u001B[43mmethod\u001B[49m\u001B[43m,\u001B[49m\n\u001B[0;32m    488\u001B[0m \u001B[43m        \u001B[49m\u001B[43murl\u001B[49m\u001B[38;5;241;43m=\u001B[39;49m\u001B[43murl\u001B[49m\u001B[43m,\u001B[49m\n\u001B[0;32m    489\u001B[0m \u001B[43m        \u001B[49m\u001B[43mbody\u001B[49m\u001B[38;5;241;43m=\u001B[39;49m\u001B[43mrequest\u001B[49m\u001B[38;5;241;43m.\u001B[39;49m\u001B[43mbody\u001B[49m\u001B[43m,\u001B[49m\n\u001B[0;32m    490\u001B[0m \u001B[43m        \u001B[49m\u001B[43mheaders\u001B[49m\u001B[38;5;241;43m=\u001B[39;49m\u001B[43mrequest\u001B[49m\u001B[38;5;241;43m.\u001B[39;49m\u001B[43mheaders\u001B[49m\u001B[43m,\u001B[49m\n\u001B[0;32m    491\u001B[0m \u001B[43m        \u001B[49m\u001B[43mredirect\u001B[49m\u001B[38;5;241;43m=\u001B[39;49m\u001B[38;5;28;43;01mFalse\u001B[39;49;00m\u001B[43m,\u001B[49m\n\u001B[0;32m    492\u001B[0m \u001B[43m        \u001B[49m\u001B[43massert_same_host\u001B[49m\u001B[38;5;241;43m=\u001B[39;49m\u001B[38;5;28;43;01mFalse\u001B[39;49;00m\u001B[43m,\u001B[49m\n\u001B[0;32m    493\u001B[0m \u001B[43m        \u001B[49m\u001B[43mpreload_content\u001B[49m\u001B[38;5;241;43m=\u001B[39;49m\u001B[38;5;28;43;01mFalse\u001B[39;49;00m\u001B[43m,\u001B[49m\n\u001B[0;32m    494\u001B[0m \u001B[43m        \u001B[49m\u001B[43mdecode_content\u001B[49m\u001B[38;5;241;43m=\u001B[39;49m\u001B[38;5;28;43;01mFalse\u001B[39;49;00m\u001B[43m,\u001B[49m\n\u001B[0;32m    495\u001B[0m \u001B[43m        \u001B[49m\u001B[43mretries\u001B[49m\u001B[38;5;241;43m=\u001B[39;49m\u001B[38;5;28;43mself\u001B[39;49m\u001B[38;5;241;43m.\u001B[39;49m\u001B[43mmax_retries\u001B[49m\u001B[43m,\u001B[49m\n\u001B[0;32m    496\u001B[0m \u001B[43m        \u001B[49m\u001B[43mtimeout\u001B[49m\u001B[38;5;241;43m=\u001B[39;49m\u001B[43mtimeout\u001B[49m\u001B[43m,\u001B[49m\n\u001B[0;32m    497\u001B[0m \u001B[43m        \u001B[49m\u001B[43mchunked\u001B[49m\u001B[38;5;241;43m=\u001B[39;49m\u001B[43mchunked\u001B[49m\u001B[43m,\u001B[49m\n\u001B[0;32m    498\u001B[0m \u001B[43m    \u001B[49m\u001B[43m)\u001B[49m\n\u001B[0;32m    500\u001B[0m \u001B[38;5;28;01mexcept\u001B[39;00m (ProtocolError, \u001B[38;5;167;01mOSError\u001B[39;00m) \u001B[38;5;28;01mas\u001B[39;00m err:\n",
      "File \u001B[1;32m~\\.virtualenvs\\sdmxthon-KUtw-rBx\\lib\\site-packages\\urllib3\\connectionpool.py:847\u001B[0m, in \u001B[0;36mHTTPConnectionPool.urlopen\u001B[1;34m(self, method, url, body, headers, retries, redirect, assert_same_host, timeout, pool_timeout, release_conn, chunked, body_pos, preload_content, decode_content, **response_kw)\u001B[0m\n\u001B[0;32m    845\u001B[0m     new_e \u001B[38;5;241m=\u001B[39m ProtocolError(\u001B[38;5;124m\"\u001B[39m\u001B[38;5;124mConnection aborted.\u001B[39m\u001B[38;5;124m\"\u001B[39m, new_e)\n\u001B[1;32m--> 847\u001B[0m retries \u001B[38;5;241m=\u001B[39m \u001B[43mretries\u001B[49m\u001B[38;5;241;43m.\u001B[39;49m\u001B[43mincrement\u001B[49m\u001B[43m(\u001B[49m\n\u001B[0;32m    848\u001B[0m \u001B[43m    \u001B[49m\u001B[43mmethod\u001B[49m\u001B[43m,\u001B[49m\u001B[43m \u001B[49m\u001B[43murl\u001B[49m\u001B[43m,\u001B[49m\u001B[43m \u001B[49m\u001B[43merror\u001B[49m\u001B[38;5;241;43m=\u001B[39;49m\u001B[43mnew_e\u001B[49m\u001B[43m,\u001B[49m\u001B[43m \u001B[49m\u001B[43m_pool\u001B[49m\u001B[38;5;241;43m=\u001B[39;49m\u001B[38;5;28;43mself\u001B[39;49m\u001B[43m,\u001B[49m\u001B[43m \u001B[49m\u001B[43m_stacktrace\u001B[49m\u001B[38;5;241;43m=\u001B[39;49m\u001B[43msys\u001B[49m\u001B[38;5;241;43m.\u001B[39;49m\u001B[43mexc_info\u001B[49m\u001B[43m(\u001B[49m\u001B[43m)\u001B[49m\u001B[43m[\u001B[49m\u001B[38;5;241;43m2\u001B[39;49m\u001B[43m]\u001B[49m\n\u001B[0;32m    849\u001B[0m \u001B[43m\u001B[49m\u001B[43m)\u001B[49m\n\u001B[0;32m    850\u001B[0m retries\u001B[38;5;241m.\u001B[39msleep()\n",
      "File \u001B[1;32m~\\.virtualenvs\\sdmxthon-KUtw-rBx\\lib\\site-packages\\urllib3\\util\\retry.py:515\u001B[0m, in \u001B[0;36mRetry.increment\u001B[1;34m(self, method, url, response, error, _pool, _stacktrace)\u001B[0m\n\u001B[0;32m    514\u001B[0m     reason \u001B[38;5;241m=\u001B[39m error \u001B[38;5;129;01mor\u001B[39;00m ResponseError(cause)\n\u001B[1;32m--> 515\u001B[0m     \u001B[38;5;28;01mraise\u001B[39;00m MaxRetryError(_pool, url, reason) \u001B[38;5;28;01mfrom\u001B[39;00m \u001B[38;5;21;01mreason\u001B[39;00m  \u001B[38;5;66;03m# type: ignore[arg-type]\u001B[39;00m\n\u001B[0;32m    517\u001B[0m log\u001B[38;5;241m.\u001B[39mdebug(\u001B[38;5;124m\"\u001B[39m\u001B[38;5;124mIncremented Retry for (url=\u001B[39m\u001B[38;5;124m'\u001B[39m\u001B[38;5;132;01m%s\u001B[39;00m\u001B[38;5;124m'\u001B[39m\u001B[38;5;124m): \u001B[39m\u001B[38;5;132;01m%r\u001B[39;00m\u001B[38;5;124m\"\u001B[39m, url, new_retry)\n",
      "\u001B[1;31mMaxRetryError\u001B[0m: HTTPSConnectionPool(host='fmr.meaningfuldata.eu', port=443): Max retries exceeded with url: /sdmx/v2/structure/datastructure/BIS/BIS_DER/+/?format=sdmx-2.1&prettyPrint=true (Caused by NameResolutionError(\"<urllib3.connection.HTTPSConnection object at 0x000001ABABF4AA90>: Failed to resolve 'fmr.meaningfuldata.eu' ([Errno 11001] getaddrinfo failed)\"))",
      "\nDuring handling of the above exception, another exception occurred:\n",
      "\u001B[1;31mConnectionError\u001B[0m                           Traceback (most recent call last)",
      "File \u001B[1;32m~\\Documents\\MeaningfulData\\Programacion\\sdmxthon\\sdmxthon\\parsers\\reader_input_processor.py:18\u001B[0m, in \u001B[0;36mURLparsing\u001B[1;34m(infile)\u001B[0m\n\u001B[0;32m     17\u001B[0m \u001B[38;5;28;01mtry\u001B[39;00m:\n\u001B[1;32m---> 18\u001B[0m     response \u001B[38;5;241m=\u001B[39m \u001B[43mrequests\u001B[49m\u001B[38;5;241;43m.\u001B[39;49m\u001B[43mget\u001B[49m\u001B[43m(\u001B[49m\u001B[43minfile\u001B[49m\u001B[43m)\u001B[49m\n\u001B[0;32m     19\u001B[0m     \u001B[38;5;28;01mif\u001B[39;00m response\u001B[38;5;241m.\u001B[39mstatus_code \u001B[38;5;241m==\u001B[39m \u001B[38;5;241m400\u001B[39m:\n",
      "File \u001B[1;32m~\\.virtualenvs\\sdmxthon-KUtw-rBx\\lib\\site-packages\\requests\\api.py:73\u001B[0m, in \u001B[0;36mget\u001B[1;34m(url, params, **kwargs)\u001B[0m\n\u001B[0;32m     63\u001B[0m \u001B[38;5;250m\u001B[39m\u001B[38;5;124mr\u001B[39m\u001B[38;5;124;03m\"\"\"Sends a GET request.\u001B[39;00m\n\u001B[0;32m     64\u001B[0m \n\u001B[0;32m     65\u001B[0m \u001B[38;5;124;03m:param url: URL for the new :class:`Request` object.\u001B[39;00m\n\u001B[1;32m   (...)\u001B[0m\n\u001B[0;32m     70\u001B[0m \u001B[38;5;124;03m:rtype: requests.Response\u001B[39;00m\n\u001B[0;32m     71\u001B[0m \u001B[38;5;124;03m\"\"\"\u001B[39;00m\n\u001B[1;32m---> 73\u001B[0m \u001B[38;5;28;01mreturn\u001B[39;00m \u001B[43mrequest\u001B[49m\u001B[43m(\u001B[49m\u001B[38;5;124;43m\"\u001B[39;49m\u001B[38;5;124;43mget\u001B[39;49m\u001B[38;5;124;43m\"\u001B[39;49m\u001B[43m,\u001B[49m\u001B[43m \u001B[49m\u001B[43murl\u001B[49m\u001B[43m,\u001B[49m\u001B[43m \u001B[49m\u001B[43mparams\u001B[49m\u001B[38;5;241;43m=\u001B[39;49m\u001B[43mparams\u001B[49m\u001B[43m,\u001B[49m\u001B[43m \u001B[49m\u001B[38;5;241;43m*\u001B[39;49m\u001B[38;5;241;43m*\u001B[39;49m\u001B[43mkwargs\u001B[49m\u001B[43m)\u001B[49m\n",
      "File \u001B[1;32m~\\.virtualenvs\\sdmxthon-KUtw-rBx\\lib\\site-packages\\requests\\api.py:59\u001B[0m, in \u001B[0;36mrequest\u001B[1;34m(method, url, **kwargs)\u001B[0m\n\u001B[0;32m     58\u001B[0m \u001B[38;5;28;01mwith\u001B[39;00m sessions\u001B[38;5;241m.\u001B[39mSession() \u001B[38;5;28;01mas\u001B[39;00m session:\n\u001B[1;32m---> 59\u001B[0m     \u001B[38;5;28;01mreturn\u001B[39;00m \u001B[43msession\u001B[49m\u001B[38;5;241;43m.\u001B[39;49m\u001B[43mrequest\u001B[49m\u001B[43m(\u001B[49m\u001B[43mmethod\u001B[49m\u001B[38;5;241;43m=\u001B[39;49m\u001B[43mmethod\u001B[49m\u001B[43m,\u001B[49m\u001B[43m \u001B[49m\u001B[43murl\u001B[49m\u001B[38;5;241;43m=\u001B[39;49m\u001B[43murl\u001B[49m\u001B[43m,\u001B[49m\u001B[43m \u001B[49m\u001B[38;5;241;43m*\u001B[39;49m\u001B[38;5;241;43m*\u001B[39;49m\u001B[43mkwargs\u001B[49m\u001B[43m)\u001B[49m\n",
      "File \u001B[1;32m~\\.virtualenvs\\sdmxthon-KUtw-rBx\\lib\\site-packages\\requests\\sessions.py:589\u001B[0m, in \u001B[0;36mSession.request\u001B[1;34m(self, method, url, params, data, headers, cookies, files, auth, timeout, allow_redirects, proxies, hooks, stream, verify, cert, json)\u001B[0m\n\u001B[0;32m    588\u001B[0m send_kwargs\u001B[38;5;241m.\u001B[39mupdate(settings)\n\u001B[1;32m--> 589\u001B[0m resp \u001B[38;5;241m=\u001B[39m \u001B[38;5;28;43mself\u001B[39;49m\u001B[38;5;241;43m.\u001B[39;49m\u001B[43msend\u001B[49m\u001B[43m(\u001B[49m\u001B[43mprep\u001B[49m\u001B[43m,\u001B[49m\u001B[43m \u001B[49m\u001B[38;5;241;43m*\u001B[39;49m\u001B[38;5;241;43m*\u001B[39;49m\u001B[43msend_kwargs\u001B[49m\u001B[43m)\u001B[49m\n\u001B[0;32m    591\u001B[0m \u001B[38;5;28;01mreturn\u001B[39;00m resp\n",
      "File \u001B[1;32m~\\.virtualenvs\\sdmxthon-KUtw-rBx\\lib\\site-packages\\requests\\sessions.py:703\u001B[0m, in \u001B[0;36mSession.send\u001B[1;34m(self, request, **kwargs)\u001B[0m\n\u001B[0;32m    702\u001B[0m \u001B[38;5;66;03m# Send the request\u001B[39;00m\n\u001B[1;32m--> 703\u001B[0m r \u001B[38;5;241m=\u001B[39m \u001B[43madapter\u001B[49m\u001B[38;5;241;43m.\u001B[39;49m\u001B[43msend\u001B[49m\u001B[43m(\u001B[49m\u001B[43mrequest\u001B[49m\u001B[43m,\u001B[49m\u001B[43m \u001B[49m\u001B[38;5;241;43m*\u001B[39;49m\u001B[38;5;241;43m*\u001B[39;49m\u001B[43mkwargs\u001B[49m\u001B[43m)\u001B[49m\n\u001B[0;32m    705\u001B[0m \u001B[38;5;66;03m# Total elapsed time of the request (approximately)\u001B[39;00m\n",
      "File \u001B[1;32m~\\.virtualenvs\\sdmxthon-KUtw-rBx\\lib\\site-packages\\requests\\adapters.py:519\u001B[0m, in \u001B[0;36mHTTPAdapter.send\u001B[1;34m(self, request, stream, timeout, verify, cert, proxies)\u001B[0m\n\u001B[0;32m    517\u001B[0m         \u001B[38;5;28;01mraise\u001B[39;00m SSLError(e, request\u001B[38;5;241m=\u001B[39mrequest)\n\u001B[1;32m--> 519\u001B[0m     \u001B[38;5;28;01mraise\u001B[39;00m \u001B[38;5;167;01mConnectionError\u001B[39;00m(e, request\u001B[38;5;241m=\u001B[39mrequest)\n\u001B[0;32m    521\u001B[0m \u001B[38;5;28;01mexcept\u001B[39;00m ClosedPoolError \u001B[38;5;28;01mas\u001B[39;00m e:\n",
      "\u001B[1;31mConnectionError\u001B[0m: HTTPSConnectionPool(host='fmr.meaningfuldata.eu', port=443): Max retries exceeded with url: /sdmx/v2/structure/datastructure/BIS/BIS_DER/+/?format=sdmx-2.1&prettyPrint=true (Caused by NameResolutionError(\"<urllib3.connection.HTTPSConnection object at 0x000001ABABF4AA90>: Failed to resolve 'fmr.meaningfuldata.eu' ([Errno 11001] getaddrinfo failed)\"))",
      "\nDuring handling of the above exception, another exception occurred:\n",
      "\u001B[1;31mConnectionError\u001B[0m                           Traceback (most recent call last)",
      "Cell \u001B[1;32mIn[14], line 5\u001B[0m\n\u001B[0;32m      1\u001B[0m \u001B[38;5;28;01mfrom\u001B[39;00m \u001B[38;5;21;01msdmxthon\u001B[39;00m \u001B[38;5;28;01mimport\u001B[39;00m read_sdmx\n\u001B[0;32m      3\u001B[0m url \u001B[38;5;241m=\u001B[39m \u001B[38;5;124m'\u001B[39m\u001B[38;5;124mhttps://fmr.meaningfuldata.eu/sdmx/v2/structure/datastructure/BIS/BIS_DER/+/?format=sdmx-2.1&prettyPrint=true\u001B[39m\u001B[38;5;124m'\u001B[39m\n\u001B[1;32m----> 5\u001B[0m message: Message \u001B[38;5;241m=\u001B[39m \u001B[43mread_sdmx\u001B[49m\u001B[43m(\u001B[49m\u001B[43murl\u001B[49m\u001B[43m,\u001B[49m\u001B[43m \u001B[49m\u001B[43mvalidate\u001B[49m\u001B[38;5;241;43m=\u001B[39;49m\u001B[38;5;28;43;01mTrue\u001B[39;49;00m\u001B[43m)\u001B[49m\n\u001B[0;32m      6\u001B[0m message\u001B[38;5;241m.\u001B[39mcontent[\u001B[38;5;124m'\u001B[39m\u001B[38;5;124mDataStructures\u001B[39m\u001B[38;5;124m'\u001B[39m]\n",
      "File \u001B[1;32m~\\Documents\\MeaningfulData\\Programacion\\sdmxthon\\sdmxthon\\api\\api.py:40\u001B[0m, in \u001B[0;36mread_sdmx\u001B[1;34m(sdmx_file, validate, use_dataset_id)\u001B[0m\n\u001B[0;32m     37\u001B[0m     sdmx_file \u001B[38;5;241m=\u001B[39m \u001B[38;5;28mstr\u001B[39m(sdmx_file)\n\u001B[0;32m     39\u001B[0m \u001B[38;5;66;03m# Process the SDMX file and check the file type\u001B[39;00m\n\u001B[1;32m---> 40\u001B[0m infile, filetype \u001B[38;5;241m=\u001B[39m \u001B[43mprocess_string_to_read\u001B[49m\u001B[43m(\u001B[49m\u001B[43msdmx_file\u001B[49m\u001B[43m)\u001B[49m\n\u001B[0;32m     41\u001B[0m \u001B[38;5;28;01mif\u001B[39;00m filetype \u001B[38;5;241m==\u001B[39m \u001B[38;5;124m\"\u001B[39m\u001B[38;5;124mxml\u001B[39m\u001B[38;5;124m\"\u001B[39m:\n\u001B[0;32m     42\u001B[0m     payload \u001B[38;5;241m=\u001B[39m read_xml(infile, \u001B[38;5;28;01mNone\u001B[39;00m, validate\u001B[38;5;241m=\u001B[39mvalidate,\n\u001B[0;32m     43\u001B[0m                        use_dataset_id\u001B[38;5;241m=\u001B[39muse_dataset_id)\n",
      "File \u001B[1;32m~\\Documents\\MeaningfulData\\Programacion\\sdmxthon\\sdmxthon\\parsers\\reader_input_processor.py:37\u001B[0m, in \u001B[0;36mprocess_string_to_read\u001B[1;34m(infile)\u001B[0m\n\u001B[0;32m     34\u001B[0m \u001B[38;5;28;01mif\u001B[39;00m \u001B[38;5;28misinstance\u001B[39m(infile, (\u001B[38;5;28mstr\u001B[39m, os\u001B[38;5;241m.\u001B[39mPathLike)):\n\u001B[0;32m     35\u001B[0m     \u001B[38;5;66;03m# Is URL\u001B[39;00m\n\u001B[0;32m     36\u001B[0m     \u001B[38;5;28;01mif\u001B[39;00m validators\u001B[38;5;241m.\u001B[39murl(infile):\n\u001B[1;32m---> 37\u001B[0m         infile \u001B[38;5;241m=\u001B[39m \u001B[43mURLparsing\u001B[49m\u001B[43m(\u001B[49m\u001B[43minfile\u001B[49m\u001B[43m)\u001B[49m\n\u001B[0;32m     38\u001B[0m     \u001B[38;5;66;03m# Is file as string\u001B[39;00m\n\u001B[0;32m     39\u001B[0m     \u001B[38;5;28;01melif\u001B[39;00m \u001B[38;5;28mlen\u001B[39m(infile) \u001B[38;5;241m>\u001B[39m \u001B[38;5;241m10\u001B[39m \u001B[38;5;129;01mand\u001B[39;00m \u001B[38;5;124m\"\u001B[39m\u001B[38;5;124m<?\u001B[39m\u001B[38;5;124m\"\u001B[39m \u001B[38;5;129;01min\u001B[39;00m infile[:\u001B[38;5;241m10\u001B[39m] \u001B[38;5;129;01mand\u001B[39;00m \u001B[38;5;124m\"\u001B[39m\u001B[38;5;124mxml\u001B[39m\u001B[38;5;124m\"\u001B[39m \u001B[38;5;129;01min\u001B[39;00m infile[:\u001B[38;5;241m10\u001B[39m]:\n",
      "File \u001B[1;32m~\\Documents\\MeaningfulData\\Programacion\\sdmxthon\\sdmxthon\\parsers\\reader_input_processor.py:26\u001B[0m, in \u001B[0;36mURLparsing\u001B[1;34m(infile)\u001B[0m\n\u001B[0;32m     22\u001B[0m     infile \u001B[38;5;241m=\u001B[39m TextIOWrapper(BytesIO(response\u001B[38;5;241m.\u001B[39mcontent),\n\u001B[0;32m     23\u001B[0m                            encoding\u001B[38;5;241m=\u001B[39m\u001B[38;5;124m'\u001B[39m\u001B[38;5;124mutf-8\u001B[39m\u001B[38;5;124m'\u001B[39m,\n\u001B[0;32m     24\u001B[0m                            errors\u001B[38;5;241m=\u001B[39m\u001B[38;5;124m\"\u001B[39m\u001B[38;5;124mreplace\u001B[39m\u001B[38;5;124m\"\u001B[39m)\u001B[38;5;241m.\u001B[39mread()\n\u001B[0;32m     25\u001B[0m \u001B[38;5;28;01mexcept\u001B[39;00m requests\u001B[38;5;241m.\u001B[39mConnectionError:\n\u001B[1;32m---> 26\u001B[0m     \u001B[38;5;28;01mraise\u001B[39;00m requests\u001B[38;5;241m.\u001B[39mConnectionError(\u001B[38;5;124m'\u001B[39m\u001B[38;5;124mInvalid URL. \u001B[39m\u001B[38;5;124m'\u001B[39m\n\u001B[0;32m     27\u001B[0m                                    \u001B[38;5;124m'\u001B[39m\u001B[38;5;124mNo response from server\u001B[39m\u001B[38;5;124m'\u001B[39m)\n\u001B[0;32m     28\u001B[0m \u001B[38;5;28;01mreturn\u001B[39;00m infile\n",
      "\u001B[1;31mConnectionError\u001B[0m: Invalid URL. No response from server"
     ]
    }
   ],
   "execution_count": 14
  },
  {
   "metadata": {},
   "cell_type": "markdown",
   "source": "# Writing Structures to SDMX-ML",
   "id": "581cd94811af045"
  },
  {
   "metadata": {},
   "cell_type": "markdown",
   "source": "PySDMX supports several functionalities to write to SDMX-JSON and SDMX-ML on Structures. This writers are placed in the io package.",
   "id": "88ddd766f8f396e8"
  },
  {
   "metadata": {
    "ExecuteTime": {
     "end_time": "2024-06-10T10:10:18.932701Z",
     "start_time": "2024-06-10T10:10:18.932701Z"
    }
   },
   "cell_type": "code",
   "source": [
    "# Method only implemented on SDMXthon, please check the docs to look for the current implementation on PySDMX\n",
    "message.to_xml(prettyprint=False)"
   ],
   "id": "6f421e5e1f74bf5e",
   "outputs": [],
   "execution_count": null
  },
  {
   "metadata": {},
   "cell_type": "markdown",
   "source": "# Uploading Structures to FMR",
   "id": "9fc75e99cc5494a4"
  },
  {
   "metadata": {},
   "cell_type": "markdown",
   "source": [
    "PySDMX will support the structures upload to Fusion Metadata Registry.\n",
    "\n",
    "This functionality is still pending to be designed and implemented on PySDMX, as we would like to include it as part of the API package.\n",
    "\n",
    "If you would like that your platform is also supported, please let us know on [GitHub](https://github.com/bis-med-it/pysdmx)!\n",
    "\n",
    "[Link to FMR DSD]()"
   ],
   "id": "62251c93d2e59d0b"
  },
  {
   "metadata": {
    "ExecuteTime": {
     "end_time": "2024-06-10T10:10:18.932701Z",
     "start_time": "2024-06-10T10:10:18.932701Z"
    }
   },
   "cell_type": "code",
   "source": [
    "user = 'XXXXXXXXXXXX'\n",
    "password = 'XXXXXXXXXXXXXX'\n",
    "\n",
    "# Method only implemented on SDMXthon, please check the docs to look for the current implementation on PySDMX\n",
    "message.upload_to_fmr('fmr.meaningfuldata.eu', 443, user=user, password=password, use_https=True)"
   ],
   "id": "afeef2a392b76f6",
   "outputs": [],
   "execution_count": null
  },
  {
   "metadata": {},
   "cell_type": "markdown",
   "source": "# Data management",
   "id": "9b3ec2a3b0515b06"
  },
  {
   "metadata": {},
   "cell_type": "markdown",
   "source": "PySDMX allows to read and write data in SDMX formats. All data is managed afterward using the Pandas library. ",
   "id": "bd3491b1b11e4bb2"
  },
  {
   "metadata": {},
   "cell_type": "markdown",
   "source": [
    "In this example, we will load some data on the SDMX-CSV format and write it into SDMX-ML, while validating it using Fusion Metadata Registry.\n",
    "\n",
    "PySDMX will support the following formats for data:\n",
    "\n",
    "- Any [Pandas compatible format]()\n",
    "- SDMX-CSV 1.0\n",
    "- SDMX-CSV 2.0\n",
    "- SDMX-JSON 1.0\n",
    "- SDMX-ML 2.1"
   ],
   "id": "a27e2c673cb11a0b"
  },
  {
   "metadata": {},
   "cell_type": "markdown",
   "source": "## The DataSet class",
   "id": "16cd96ddc2752592"
  },
  {
   "metadata": {},
   "cell_type": "markdown",
   "source": [
    "The DataSet class holds information about the attributes at dataset level and the SDMX IM related attributes (action, reportingBegin...)\n",
    "\n",
    "It also holds the data (currently only in Pandas DataFrame), to ensure we can manage all data functionalities of the library.\n",
    "\n",
    "[Link to input data used](https://raw.githubusercontent.com/Meaningful-Data/sdmxthon/master/notebooks/input_data.csv)"
   ],
   "id": "bc93a708dfdaecf1"
  },
  {
   "metadata": {},
   "cell_type": "code",
   "source": [
    "from sdmxthon import Dataset\n",
    "\n",
    "data_instance = Dataset(unique_id='BIS:BIS_DER(1.0)', structure_type='datastructure')\n",
    "\n",
    "data_url = 'https://raw.githubusercontent.com/Meaningful-Data/sdmxthon/master/notebooks/input_data.csv'\n",
    "# Load the data from a CSV file:\n",
    "data_instance.read_csv(data_url)\n",
    "\n",
    "metadata = read_sdmx('https://fmr.meaningfuldata.eu/sdmx/v2/structure/datastructure/BIS/BIS_DER/+/?format=sdmx-2.1&prettyPrint=true')\n",
    "data_instance.structure = metadata.content['DataStructures']['BIS:BIS_DER(1.0)']"
   ],
   "id": "1bf4a1cdc7a7d085",
   "outputs": [],
   "execution_count": null
  },
  {
   "metadata": {},
   "cell_type": "markdown",
   "source": "## Semantic validation using FMR",
   "id": "e1e3abab7a049c7c"
  },
  {
   "metadata": {},
   "cell_type": "markdown",
   "source": "PySDMX will support Fusion Metadata Registry´s Semantic Validation compatibility.",
   "id": "e2bad2fcc82bb04f"
  },
  {
   "metadata": {},
   "cell_type": "code",
   "source": "data_instance.fmr_validation('fmr.meaningfuldata.eu', 443, use_https=True)",
   "id": "57448bab8387e9a7",
   "outputs": [],
   "execution_count": null
  },
  {
   "metadata": {},
   "cell_type": "markdown",
   "source": "## Data Writing to SDMX-ML",
   "id": "d16d0a711350cd09"
  },
  {
   "metadata": {},
   "cell_type": "markdown",
   "source": "Writing to SDMX-ML can be done in Structure Specific format or Generic format (deprecated in 3.0)",
   "id": "a01669fcf34741be"
  },
  {
   "metadata": {},
   "cell_type": "code",
   "source": "data_instance.to_xml(message_type=MessageTypeEnum.StructureSpecificDataSet)",
   "id": "bd924cb622c2c4aa",
   "outputs": [],
   "execution_count": null
  },
  {
   "metadata": {},
   "cell_type": "markdown",
   "source": "To write using Time Series, we need to set the dimension at observation",
   "id": "93595f4636c4027a"
  },
  {
   "metadata": {},
   "cell_type": "code",
   "source": [
    "data_instance.set_dimension_at_observation('TIME_PERIOD')\n",
    "data_instance.to_xml(message_type=MessageTypeEnum.StructureSpecificDataSet)"
   ],
   "id": "bf5ef59f189bd7f3",
   "outputs": [],
   "execution_count": null
  },
  {
   "metadata": {},
   "cell_type": "markdown",
   "source": "# PySDMX/SDMXthon in action",
   "id": "2bd170e96b684139"
  },
  {
   "metadata": {},
   "cell_type": "markdown",
   "source": [
    "[SDMX Insight](https://sdmxinsight.meaningfuldata.eu)\n",
    "\n",
    "[SDMX Hub (SGDS viewer)](https://sdmxhub.meaningfuldata.eu)"
   ],
   "id": "dc0ef817ecda6aa5"
  },
  {
   "metadata": {},
   "cell_type": "code",
   "outputs": [],
   "execution_count": null,
   "source": "",
   "id": "7212dbaa7bdc4a68"
  }
 ],
 "metadata": {
  "kernelspec": {
   "display_name": "Python 3",
   "language": "python",
   "name": "python3"
  },
  "language_info": {
   "codemirror_mode": {
    "name": "ipython",
    "version": 2
   },
   "file_extension": ".py",
   "mimetype": "text/x-python",
   "name": "python",
   "nbconvert_exporter": "python",
   "pygments_lexer": "ipython2",
   "version": "2.7.6"
  }
 },
 "nbformat": 4,
 "nbformat_minor": 5
}
