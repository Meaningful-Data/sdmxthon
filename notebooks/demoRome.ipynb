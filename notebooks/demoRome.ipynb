{
 "cells": [
  {
   "metadata": {},
   "cell_type": "markdown",
   "source": "# PySDMX demo (using sdmxthon internal methods)",
   "id": "68fc486e6b25a3c5"
  },
  {
   "metadata": {},
   "cell_type": "markdown",
   "source": [
    "In the PySDMX library, even though some methods have been implemented, we are refactoring the internal functions to ensure we can support several SDMX formats.\n",
    "\n",
    "The notebook displayed here uses the sdmxthon library (whose code has been broadly used in the development of pysdmx parsers and writers for SDMX-ML 2.1, as well as Message class and DataSet class) to showcase the functionalities related to SDMX-ML 2.1.\n",
    "\n",
    "Some methods may slightly change, but overall the code used here will be similar in PySDMX. A comprehensive example will be uploaded to the documentation when this functionalities are implemented.\n",
    "\n",
    "Main Links:\n",
    "- [PyPi]()\n",
    "- [Documentation]()\n",
    "- [Github - Source Code and Bug Tracker](https://github.com/bis-med-it/pysdmx)"
   ],
   "id": "311dede283bcd06c"
  },
  {
   "metadata": {},
   "cell_type": "markdown",
   "source": "## Overview of SDMXthon code to be used in PySDMX",
   "id": "81e4e72af9480c3f"
  },
  {
   "metadata": {},
   "cell_type": "markdown",
   "source": [
    "SDMXthon is the code base for many functionalities on PySDMX, including the Data Management. It uses Message class as a collection of SDMX objects referring to data or metadata. \n",
    "\n",
    "The data is based on Pandas Dataframe. PySDMX may support other libraries like Polars in the future.\n",
    "\n",
    "The metadata is based on a set of classes to handle the SDMX Information Model, which are already included in PySDMX.\n",
    "\n",
    "To install SDMXthon in JupyterLite, use this:"
   ],
   "id": "5521ffc33531f6a"
  },
  {
   "metadata": {},
   "cell_type": "code",
   "source": [
    "import micropip\n",
    "await micropip.install(\"sdmxthon\")"
   ],
   "id": "a39492249ee6d900",
   "outputs": [],
   "execution_count": null
  },
  {
   "metadata": {},
   "cell_type": "markdown",
   "source": "## SDMX IM Structures management",
   "id": "fde7350d70e8dc8c"
  },
  {
   "metadata": {},
   "cell_type": "markdown",
   "source": "PySDMX includes several classes to manage structures, placed in the model package and based on the [SDMX IM](https://sdmx.org/wp-content/uploads/SDMX_2-1-1_SECTION_2_InformationModel_201108.pdf). Here we will use similar classes from the SDMXthon library which already includes the functionality to read and write on SDMX-ML 2.1.",
   "id": "e8741f0ad177ce31"
  },
  {
   "metadata": {},
   "cell_type": "markdown",
   "source": "### Item Scheme classes",
   "id": "b4f79109dca8e4dd"
  },
  {
   "metadata": {},
   "cell_type": "code",
   "source": [
    "from sdmxthon.model.itemScheme import Agency, Codelist, ConceptScheme\n",
    "\n",
    "cl = Codelist(\"TEST_CL\", version='1.0', maintainer=Agency('TEST'))\n",
    "cl\n"
   ],
   "id": "e657e20597261f33",
   "outputs": [],
   "execution_count": null
  },
  {
   "metadata": {},
   "cell_type": "code",
   "source": [
    "cs = ConceptScheme('TEST_CS', version='1.0', maintainer=Agency('TEST'))\n",
    "cs"
   ],
   "id": "c6fe991b027a69e8",
   "outputs": [],
   "execution_count": null
  },
  {
   "metadata": {},
   "cell_type": "markdown",
   "source": "### Data Structure Definition and DataFlow",
   "id": "3ed37eacc16fed1f"
  },
  {
   "metadata": {},
   "cell_type": "code",
   "source": [
    "from sdmxthon.model.definitions import DataStructureDefinition, DataFlowDefinition\n",
    "\n",
    "dsd = DataStructureDefinition('TEST_DSD', version='1.0', maintainer=Agency('TEST'))\n",
    "dsd"
   ],
   "id": "80245ec5d5359ce9",
   "outputs": [],
   "execution_count": null
  },
  {
   "metadata": {},
   "cell_type": "code",
   "source": [
    "dfd = DataFlowDefinition('TEST_DF', version='1.0', maintainer=Agency('TEST'))\n",
    "dfd"
   ],
   "id": "91b16a813c6bf930",
   "outputs": [],
   "execution_count": null
  },
  {
   "metadata": {},
   "cell_type": "markdown",
   "source": "# The Message class",
   "id": "2414d0fe217f0788"
  },
  {
   "metadata": {},
   "cell_type": "markdown",
   "source": "The message class allows to include all different SDMX objects into a simple class for reading, writing and validation purposes. It is based on the SDMX Message XML object from SDMX-ML format.",
   "id": "ef14a959414a4fbe"
  },
  {
   "metadata": {},
   "cell_type": "code",
   "source": [
    "from sdmxthon.utils.parsing_words import CODELISTS, CONCEPTS, DATAFLOWS, DSDS\n",
    "from sdmxthon import Message, MessageTypeEnum\n",
    "\n",
    "\n",
    "\n",
    "payload = {\n",
    "    CODELISTS: {cl.unique_id: cl},\n",
    "    CONCEPTS: {cs.unique_id: cs},\n",
    "    DSDS: {dsd.unique_id: dsd}\n",
    "}\n",
    "\n",
    "type_ = MessageTypeEnum.Metadata\n",
    "\n",
    "message = Message(type_, payload)\n",
    "message.content"
   ],
   "id": "65a727d74ff9cabd",
   "outputs": [],
   "execution_count": null
  },
  {
   "metadata": {},
   "cell_type": "markdown",
   "source": "# Reading SDMX",
   "id": "785efd934846a19d"
  },
  {
   "metadata": {},
   "cell_type": "markdown",
   "source": [
    "PySDMX will support several methods to read from SDMX APIs (api package) or files (io package), enhancing the usability of the library and its functionalities. Still, this functionality is a work in progress, so we will use as demo only the method read_sdmx, which will be included in PySDMX.\n",
    "\n",
    "In this example, we are reading an SDMX-ML 2.1 Structures file and validating it using the XSD schemas. The output will be the Message class, with all the included SDMX objects parsed.\n",
    "\n",
    "[Link to example used](https://fmr.meaningfuldata.eu/sdmx/v2/structure/datastructure/BIS/BIS_DER/+/?format=sdmx-2.1&prettyPrint=true)\n",
    "\n",
    "[Link to FMR DSD]()"
   ],
   "id": "8c66bd152a95a854"
  },
  {
   "metadata": {},
   "cell_type": "code",
   "source": [
    "from sdmxthon import read_sdmx\n",
    "\n",
    "url = 'https://fmr.meaningfuldata.eu/sdmx/v2/structure/datastructure/BIS/BIS_DER/+/?format=sdmx-2.1&prettyPrint=true'\n",
    "\n",
    "message: Message = read_sdmx(url, validate=True)\n",
    "message.content['DataStructures']"
   ],
   "id": "471f413c9fa448cb",
   "outputs": [],
   "execution_count": null
  },
  {
   "metadata": {},
   "cell_type": "markdown",
   "source": "# Writing Structures to SDMX-ML",
   "id": "581cd94811af045"
  },
  {
   "metadata": {},
   "cell_type": "markdown",
   "source": "PySDMX supports several functionalities to write to SDMX-JSON and SDMX-ML on Structures. This writers are placed in the io package.",
   "id": "88ddd766f8f396e8"
  },
  {
   "metadata": {},
   "cell_type": "code",
   "source": [
    "# Method only implemented on SDMXthon, please check the docs to look for the current implementation on PySDMX\n",
    "message.to_xml(prettyprint=False)"
   ],
   "id": "6f421e5e1f74bf5e",
   "outputs": [],
   "execution_count": null
  },
  {
   "metadata": {},
   "cell_type": "markdown",
   "source": "# Uploading Structures to FMR",
   "id": "9fc75e99cc5494a4"
  },
  {
   "metadata": {},
   "cell_type": "markdown",
   "source": [
    "PySDMX will support the structures upload to Fusion Metadata Registry.\n",
    "\n",
    "This functionality is still pending to be designed and implemented on PySDMX, as we would like to include it as part of the API package.\n",
    "\n",
    "If you would like that your platform is also supported, please let us know on [GitHub](https://github.com/bis-med-it/pysdmx)!\n",
    "\n",
    "[Link to FMR DSD]()"
   ],
   "id": "62251c93d2e59d0b"
  },
  {
   "metadata": {},
   "cell_type": "code",
   "source": [
    "user = 'XXXXXXXXXXXX'\n",
    "password = 'XXXXXXXXXXXXXX'\n",
    "\n",
    "# Method only implemented on SDMXthon, please check the docs to look for the current implementation on PySDMX\n",
    "message.upload_to_fmr('fmr.meaningfuldata.eu', 443, user=user, password=password, use_https=True)"
   ],
   "id": "afeef2a392b76f6",
   "outputs": [],
   "execution_count": null
  },
  {
   "metadata": {},
   "cell_type": "markdown",
   "source": "# Data management",
   "id": "9b3ec2a3b0515b06"
  },
  {
   "metadata": {},
   "cell_type": "markdown",
   "source": "PySDMX allows to read and write data in SDMX formats. All data is managed afterward using the Pandas library. ",
   "id": "bd3491b1b11e4bb2"
  },
  {
   "metadata": {},
   "cell_type": "markdown",
   "source": [
    "In this example, we will load some data on the SDMX-CSV format and write it into SDMX-ML, while validating it using Fusion Metadata Registry.\n",
    "\n",
    "PySDMX will support the following formats for data:\n",
    "\n",
    "- Any [Pandas compatible format]()\n",
    "- SDMX-CSV 1.0\n",
    "- SDMX-CSV 2.0\n",
    "- SDMX-JSON 1.0\n",
    "- SDMX-ML 2.1"
   ],
   "id": "a27e2c673cb11a0b"
  },
  {
   "metadata": {},
   "cell_type": "markdown",
   "source": "## The DataSet class",
   "id": "16cd96ddc2752592"
  },
  {
   "metadata": {},
   "cell_type": "markdown",
   "source": [
    "The DataSet class holds information about the attributes at dataset level and the SDMX IM related attributes (action, reportingBegin...)\n",
    "\n",
    "It also holds the data (currently only in Pandas DataFrame), to ensure we can manage all data functionalities of the library.\n",
    "\n",
    "[Link to input data used](https://raw.githubusercontent.com/Meaningful-Data/sdmxthon/master/notebooks/input_data.csv)"
   ],
   "id": "bc93a708dfdaecf1"
  },
  {
   "metadata": {},
   "cell_type": "code",
   "source": [
    "from sdmxthon import Dataset\n",
    "\n",
    "data_instance = Dataset(unique_id='BIS:BIS_DER(1.0)', structure_type='datastructure')\n",
    "\n",
    "data_url = 'https://raw.githubusercontent.com/Meaningful-Data/sdmxthon/master/notebooks/input_data.csv'\n",
    "# Load the data from a CSV file:\n",
    "data_instance.read_csv(data_url)\n",
    "\n",
    "metadata = read_sdmx('https://fmr.meaningfuldata.eu/sdmx/v2/structure/datastructure/BIS/BIS_DER/+/?format=sdmx-2.1&prettyPrint=true')\n",
    "data_instance.structure = metadata.content['DataStructures']['BIS:BIS_DER(1.0)']"
   ],
   "id": "1bf4a1cdc7a7d085",
   "outputs": [],
   "execution_count": null
  },
  {
   "metadata": {},
   "cell_type": "markdown",
   "source": "## Semantic validation using FMR",
   "id": "e1e3abab7a049c7c"
  },
  {
   "metadata": {},
   "cell_type": "markdown",
   "source": "PySDMX will support Fusion Metadata Registry´s Semantic Validation compatibility.",
   "id": "e2bad2fcc82bb04f"
  },
  {
   "metadata": {},
   "cell_type": "code",
   "source": "data_instance.fmr_validation('fmr.meaningfuldata.eu', 443, use_https=True)",
   "id": "57448bab8387e9a7",
   "outputs": [],
   "execution_count": null
  },
  {
   "metadata": {},
   "cell_type": "markdown",
   "source": "## Data Writing to SDMX-ML",
   "id": "d16d0a711350cd09"
  },
  {
   "metadata": {},
   "cell_type": "markdown",
   "source": "Writing to SDMX-ML can be done in Structure Specific format or Generic format (deprecated in 3.0)",
   "id": "a01669fcf34741be"
  },
  {
   "metadata": {},
   "cell_type": "code",
   "source": "data_instance.to_xml(message_type=MessageTypeEnum.StructureSpecificDataSet)",
   "id": "bd924cb622c2c4aa",
   "outputs": [],
   "execution_count": null
  },
  {
   "metadata": {},
   "cell_type": "markdown",
   "source": "To write using Time Series, we need to set the dimension at observation",
   "id": "93595f4636c4027a"
  },
  {
   "metadata": {},
   "cell_type": "code",
   "source": [
    "data_instance.set_dimension_at_observation('TIME_PERIOD')\n",
    "data_instance.to_xml(message_type=MessageTypeEnum.StructureSpecificDataSet)"
   ],
   "id": "bf5ef59f189bd7f3",
   "outputs": [],
   "execution_count": null
  },
  {
   "metadata": {},
   "cell_type": "markdown",
   "source": "# PySDMX/SDMXthon in action",
   "id": "2bd170e96b684139"
  },
  {
   "metadata": {},
   "cell_type": "markdown",
   "source": [
    "[SDMX Insight](https://sdmxinsight.meaningfuldata.eu)\n",
    "\n",
    "[SDMX Hub (SGDS viewer)](https://sdmxhub.meaningfuldata.eu)"
   ],
   "id": "dc0ef817ecda6aa5"
  }
 ],
 "metadata": {
  "kernelspec": {
   "display_name": "Python 3",
   "language": "python",
   "name": "python3"
  },
  "language_info": {
   "codemirror_mode": {
    "name": "ipython",
    "version": 2
   },
   "file_extension": ".py",
   "mimetype": "text/x-python",
   "name": "python",
   "nbconvert_exporter": "python",
   "pygments_lexer": "ipython2",
   "version": "2.7.6"
  }
 },
 "nbformat": 4,
 "nbformat_minor": 5
}
