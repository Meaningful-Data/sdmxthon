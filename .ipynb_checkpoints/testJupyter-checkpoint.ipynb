{
 "cells": [
  {
   "cell_type": "code",
   "execution_count": 20,
   "metadata": {},
   "outputs": [],
   "source": [
    "import sqlite3\n",
    "import pandas as pd\n",
    "import SDMXThon"
   ]
  },
  {
   "cell_type": "markdown",
   "metadata": {},
   "source": [
    "### Defining files and path to DB and URL to Fusion Registry"
   ]
  },
  {
   "cell_type": "code",
   "execution_count": 21,
   "metadata": {},
   "outputs": [],
   "source": [
    "pathToMetadataFile = 'SDMXThon/outputTests/metadata/sampleFiles/RBI_DSD(1.0)_20052020.xml'\n",
    "pathToJSON = 'SDMXThon/outputTests/output.json'\n",
    "pathTestGEN = 'SDMXThon/outputTests/test_GEN.xml'\n",
    "pathTestXS = 'SDMXThon/outputTests/test_XS.xml'\n",
    "pathToDB = 'SDMXThon/outputTests/BIS_DER_OUTS.db'\n",
    "pathToData = 'SDMXThon/outputTests/BIS_DER_OUTS.xml'\n",
    "pathToTest = 'SDMXThon/outputTests/test.xml'\n",
    "\n",
    "urlMetadata = 'http://fusionregistry.meaningfuldata.eu/MetadataRegistry/ws/public/sdmxapi/rest/datastructure/BIS/BIS_DER/latest/?format=sdmx-2.1&detail=full&references=all&prettyPrint=true'"
   ]
  },
  {
   "cell_type": "markdown",
   "metadata": {},
   "source": [
    "### Use case 1: Data Analysis"
   ]
  },
  {
   "cell_type": "code",
   "execution_count": 24,
   "metadata": {},
   "outputs": [
    {
     "name": "stdout",
     "output_type": "stream",
     "text": [
      "<DataSet  - BIS_DER>\n"
     ]
    }
   ],
   "source": [
    "dataset = SDMXThon.getDatasets(pathToData, urlMetadata, SDMXThon.DatasetType.StructureDataSet)\n",
    "print(dataset)"
   ]
  },
  {
   "cell_type": "code",
   "execution_count": 25,
   "metadata": {},
   "outputs": [
    {
     "name": "stdout",
     "output_type": "stream",
     "text": [
      "{'BORROWINGS': <DataSet  - BORROWINGS>, 'AALOE': <DataSet  - AALOE>}\n"
     ]
    }
   ],
   "source": [
    "datasets = SDMXThon.getDatasets(pathToTest, pathToMetadataFile, SDMXThon.DatasetType.GenericDataSet)\n",
    "print(datasets)"
   ]
  },
  {
   "cell_type": "code",
   "execution_count": 26,
   "metadata": {},
   "outputs": [
    {
     "name": "stdout",
     "output_type": "stream",
     "text": [
      "      FREQ DER_TYPE DER_INSTR DER_RISK DER_REP_CTY DER_SECTOR_CPY DER_CPC  \\\n",
      "0        A        A         A        T          5J              A      5J   \n",
      "1        A        A         A        T          5J              A      5J   \n",
      "2        A        A         A        T          5J              A      5J   \n",
      "3        A        A         A        T          5J              A      5J   \n",
      "4        A        A         A        T          5J              A      5J   \n",
      "...    ...      ...       ...      ...         ...            ...     ...   \n",
      "17434    A        A         X        T          5J              Z      5J   \n",
      "17435    A        A         X        T          5J              Z      5J   \n",
      "17436    A        A         X        T          5J              Z      5J   \n",
      "17437    A        A         X        T          5J              Z      5J   \n",
      "17438    A        A         X        T          5J              Z      5J   \n",
      "\n",
      "      DER_SECTOR_UDL DER_CURR_LEG1 DER_CURR_LEG2 DER_ISSUE_MAT DER_RATING  \\\n",
      "0                  A           TO1           TO1             A          A   \n",
      "1                  A           TO1           TO1             A          A   \n",
      "2                  A           TO1           TO1             A          A   \n",
      "3                  A           TO1           TO1             A          A   \n",
      "4                  A           TO1           TO1             A          A   \n",
      "...              ...           ...           ...           ...        ...   \n",
      "17434              A           TO1           TO1             A          A   \n",
      "17435              A           TO1           TO1             A          A   \n",
      "17436              A           TO1           TO1             A          A   \n",
      "17437              A           TO1           TO1             A          A   \n",
      "17438              A           TO1           TO1             A          A   \n",
      "\n",
      "      DER_EX_METHOD DER_BASIS AVAILABILITY COLLECTION TIME_PERIOD OBS_STATUS  \\\n",
      "0                 3         C            K          S     1998-S1          A   \n",
      "1                 3         C            K          S     1998-S2          A   \n",
      "2                 3         C            K          S     1999-S1          A   \n",
      "3                 3         C            K          S     1999-S2          A   \n",
      "4                 3         C            K          S     2000-S1          A   \n",
      "...             ...       ...          ...        ...         ...        ...   \n",
      "17434             3         C            K          S     2018-S1          A   \n",
      "17435             3         C            K          S     2018-S2          A   \n",
      "17436             3         C            K          S     2019-S1          A   \n",
      "17437             3         C            K          S     2019-S2          A   \n",
      "17438             3         C            K          S     2020-S1          A   \n",
      "\n",
      "      OBS_CONF    OBS_VALUE  \n",
      "0            F   108114.000  \n",
      "1            F   120363.963  \n",
      "2            F   122078.716  \n",
      "3            F   132178.674  \n",
      "4            F   140880.076  \n",
      "...        ...          ...  \n",
      "17434        F  3492499.000  \n",
      "17435        F  3432998.000  \n",
      "17436        F  3460765.000  \n",
      "17437        F  3424573.000  \n",
      "17438        F  4398264.000  \n",
      "\n",
      "[17439 rows x 20 columns]\n"
     ]
    }
   ],
   "source": [
    "print(dataset.data)"
   ]
  },
  {
   "cell_type": "markdown",
   "metadata": {},
   "source": [
    "### Use case 2: Read from DB and create SDMX file"
   ]
  },
  {
   "cell_type": "code",
   "execution_count": 27,
   "metadata": {},
   "outputs": [
    {
     "name": "stdout",
     "output_type": "stream",
     "text": [
      "      DER_TYPE DER_INSTR DER_RISK DER_REP_CTY DER_SECTOR_CPY DER_CPC  \\\n",
      "0            A         A        T          5J              A      5J   \n",
      "1            A         A        T          5J              A      5J   \n",
      "2            A         A        T          5J              A      5J   \n",
      "3            A         A        T          5J              A      5J   \n",
      "4            A         A        T          5J              A      5J   \n",
      "...        ...       ...      ...         ...            ...     ...   \n",
      "17434        A         X        T          5J              Z      5J   \n",
      "17435        A         X        T          5J              Z      5J   \n",
      "17436        A         X        T          5J              Z      5J   \n",
      "17437        A         X        T          5J              Z      5J   \n",
      "17438        A         X        T          5J              Z      5J   \n",
      "\n",
      "      DER_SECTOR_UDL DER_CURR_LEG1 DER_CURR_LEG2 DER_ISSUE_MAT DER_RATING  \\\n",
      "0                  A           TO1           TO1             A          A   \n",
      "1                  A           TO1           TO1             A          A   \n",
      "2                  A           TO1           TO1             A          A   \n",
      "3                  A           TO1           TO1             A          A   \n",
      "4                  A           TO1           TO1             A          A   \n",
      "...              ...           ...           ...           ...        ...   \n",
      "17434              A           TO1           TO1             A          A   \n",
      "17435              A           TO1           TO1             A          A   \n",
      "17436              A           TO1           TO1             A          A   \n",
      "17437              A           TO1           TO1             A          A   \n",
      "17438              A           TO1           TO1             A          A   \n",
      "\n",
      "      DER_EX_METHOD DER_BASIS COLLECTION AVAILABILITY TIME_PERIOD  \\\n",
      "0                 3         C          S            K     1998-S1   \n",
      "1                 3         C          S            K     1998-S2   \n",
      "2                 3         C          S            K     1999-S1   \n",
      "3                 3         C          S            K     1999-S2   \n",
      "4                 3         C          S            K     2000-S1   \n",
      "...             ...       ...        ...          ...         ...   \n",
      "17434             3         C          S            K     2018-S1   \n",
      "17435             3         C          S            K     2018-S2   \n",
      "17436             3         C          S            K     2019-S1   \n",
      "17437             3         C          S            K     2019-S2   \n",
      "17438             3         C          S            K     2020-S1   \n",
      "\n",
      "         OBS_VALUE OBS_STATUS OBS_CONF  \n",
      "0       108114.000          A        F  \n",
      "1       120363.963          A        F  \n",
      "2       122078.716          A        F  \n",
      "3       132178.674          A        F  \n",
      "4       140880.076          A        F  \n",
      "...            ...        ...      ...  \n",
      "17434  3492499.000          A        F  \n",
      "17435  3432998.000          A        F  \n",
      "17436  3460765.000          A        F  \n",
      "17437  3424573.000          A        F  \n",
      "17438  4398264.000          A        F  \n",
      "\n",
      "[17439 rows x 19 columns]\n"
     ]
    }
   ],
   "source": [
    "conn = sqlite3.connect(pathToDB)\n",
    "df = pd.read_sql('SELECT * from BIS_DER WHERE DER_TYPE = \"A\" and DER_RISK = \"T\";', conn)\n",
    "print(df)"
   ]
  },
  {
   "cell_type": "code",
   "execution_count": 28,
   "metadata": {},
   "outputs": [
    {
     "name": "stdout",
     "output_type": "stream",
     "text": [
      "<DataSet  - BIS_DER>\n"
     ]
    }
   ],
   "source": [
    "dsds = SDMXThon.getMetadata(urlMetadata)\n",
    "\n",
    "dataset2 = SDMXThon.DataSet(dsds[\"BIS:BIS_DER(1.0)\"], data=df)\n",
    "print(dataset2)"
   ]
  },
  {
   "cell_type": "code",
   "execution_count": 29,
   "metadata": {},
   "outputs": [
    {
     "name": "stdout",
     "output_type": "stream",
     "text": [
      "['SS01: Missing dimension FREQ on dataset BIS_DER']\n"
     ]
    }
   ],
   "source": [
    "errors = dataset2.semanticValidation()\n",
    "\n",
    "print(errors)"
   ]
  },
  {
   "cell_type": "code",
   "execution_count": 30,
   "metadata": {},
   "outputs": [
    {
     "name": "stdout",
     "output_type": "stream",
     "text": [
      "[]\n"
     ]
    }
   ],
   "source": [
    "dataset2.data['FREQ'] = 'A'\n",
    "errors = dataset2.semanticValidation()\n",
    "\n",
    "print(errors)"
   ]
  },
  {
   "cell_type": "code",
   "execution_count": 31,
   "metadata": {},
   "outputs": [],
   "source": [
    "dataset2.toXML(SDMXThon.DatasetType.GenericDataSet, pathTestGEN)"
   ]
  },
  {
   "cell_type": "code",
   "execution_count": 32,
   "metadata": {},
   "outputs": [],
   "source": [
    "dataset2.setDimensionAtObservation('TIME_PERIOD')\n",
    "dataset2.toXML(SDMXThon.DatasetType.StructureDataSet, pathTestXS)"
   ]
  },
  {
   "cell_type": "markdown",
   "metadata": {},
   "source": [
    "### Use case 3: Create Message from JSON and write to XML"
   ]
  },
  {
   "cell_type": "code",
   "execution_count": 33,
   "metadata": {},
   "outputs": [
    {
     "name": "stdout",
     "output_type": "stream",
     "text": [
      "{'BORROWINGS': <DataSet  - BORROWINGS>, 'AALOE': <DataSet  - AALOE>}\n"
     ]
    }
   ],
   "source": [
    "message = SDMXThon.Message(SDMXThon.DatasetType.GenericDataSet)\n",
    "message.readJSON(pathToJSON, pathToMetadataFile)\n",
    "print(message.payload)"
   ]
  },
  {
   "cell_type": "code",
   "execution_count": 34,
   "metadata": {},
   "outputs": [],
   "source": [
    "message.toXML(pathToTest)"
   ]
  }
 ],
 "metadata": {
  "kernelspec": {
   "display_name": "Python 3",
   "language": "python",
   "name": "python3"
  },
  "language_info": {
   "codemirror_mode": {
    "name": "ipython",
    "version": 3
   },
   "file_extension": ".py",
   "mimetype": "text/x-python",
   "name": "python",
   "nbconvert_exporter": "python",
   "pygments_lexer": "ipython3",
   "version": "3.7.6"
  }
 },
 "nbformat": 4,
 "nbformat_minor": 4
}
